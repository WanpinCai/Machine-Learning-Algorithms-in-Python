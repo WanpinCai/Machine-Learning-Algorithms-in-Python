{
  "nbformat": 4,
  "nbformat_minor": 0,
  "metadata": {
    "colab": {
      "provenance": [],
      "toc_visible": true,
      "authorship_tag": "ABX9TyO1PzWLVO+MNqwBMyMNW0rX",
      "include_colab_link": true
    },
    "kernelspec": {
      "name": "python3",
      "display_name": "Python 3"
    },
    "language_info": {
      "name": "python"
    }
  },
  "cells": [
    {
      "cell_type": "markdown",
      "metadata": {
        "id": "view-in-github",
        "colab_type": "text"
      },
      "source": [
        "<a href=\"https://colab.research.google.com/github/WanpinCai/Machine-Learning-Algorithms-in-Python/blob/main/artificial_neural_network.ipynb\" target=\"_parent\"><img src=\"https://colab.research.google.com/assets/colab-badge.svg\" alt=\"Open In Colab\"/></a>"
      ]
    },
    {
      "cell_type": "markdown",
      "source": [
        "#**Artificial Neural Network**"
      ],
      "metadata": {
        "id": "ifY9qq-ygeZu"
      }
    },
    {
      "cell_type": "markdown",
      "source": [
        "# Importing the libraries\n",
        "\n"
      ],
      "metadata": {
        "id": "KS0PV6AtgZHK"
      }
    },
    {
      "cell_type": "code",
      "source": [
        "import numpy as np\n",
        "import matplotlib.pyplot as plt\n",
        "import pandas as pd"
      ],
      "metadata": {
        "id": "GGNWrhLQgxKO"
      },
      "execution_count": 1,
      "outputs": []
    },
    {
      "cell_type": "markdown",
      "source": [
        "# Part 1 - Data Preprocessing\n"
      ],
      "metadata": {
        "id": "M4brtAqORhSi"
      }
    },
    {
      "cell_type": "markdown",
      "source": [
        "## Importing the dataset"
      ],
      "metadata": {
        "id": "4n6bhC9WgtS3"
      }
    },
    {
      "cell_type": "markdown",
      "source": [
        "## Encoding categorical data"
      ],
      "metadata": {
        "id": "KpbOFo_xRsy3"
      }
    },
    {
      "cell_type": "markdown",
      "source": [
        "## Splitting the dataset into Training set and Test set"
      ],
      "metadata": {
        "id": "8zcibygWRxhn"
      }
    },
    {
      "cell_type": "markdown",
      "source": [
        "## Feature Scaling"
      ],
      "metadata": {
        "id": "0iH4L8NdR2gC"
      }
    },
    {
      "cell_type": "markdown",
      "source": [
        "# Part 2 - Building the ANN"
      ],
      "metadata": {
        "id": "GmDH5pM8R4ve"
      }
    },
    {
      "cell_type": "markdown",
      "source": [
        "## Initializing the ANN\n"
      ],
      "metadata": {
        "id": "PaEMs76mR_90"
      }
    },
    {
      "cell_type": "markdown",
      "source": [
        "##Adding the input layer and the first hidden layer"
      ],
      "metadata": {
        "id": "Ij5cgKekSDEg"
      }
    },
    {
      "cell_type": "markdown",
      "source": [
        "## Adding the second hidden layer"
      ],
      "metadata": {
        "id": "s4f4qaXcSHPX"
      }
    },
    {
      "cell_type": "markdown",
      "source": [
        "## Adding the output layer"
      ],
      "metadata": {
        "id": "15aTnPF6SKXk"
      }
    },
    {
      "cell_type": "markdown",
      "source": [
        "# Part 3 - Training the ANN\n"
      ],
      "metadata": {
        "id": "JI4nz9yjSNh0"
      }
    },
    {
      "cell_type": "markdown",
      "source": [
        "## Compiling the ANN"
      ],
      "metadata": {
        "id": "VJwaRHMDSR3C"
      }
    },
    {
      "cell_type": "markdown",
      "source": [
        "## Training the ANN on the Training set"
      ],
      "metadata": {
        "id": "xQLVtHG2SUm8"
      }
    },
    {
      "cell_type": "markdown",
      "source": [
        "# Part 4 - Making the predictions and evaluating the model"
      ],
      "metadata": {
        "id": "rOAMZN4jSYi-"
      }
    },
    {
      "cell_type": "markdown",
      "source": [
        "## Predicting the result of a single observation"
      ],
      "metadata": {
        "id": "aX_VckwxSdST"
      }
    },
    {
      "cell_type": "markdown",
      "source": [
        "##Predicting the Test set results"
      ],
      "metadata": {
        "id": "h4VPls9WShP4"
      }
    },
    {
      "cell_type": "markdown",
      "source": [
        "## Making the Confusion Matrix"
      ],
      "metadata": {
        "id": "Wl4truOaSkOV"
      }
    }
  ]
}