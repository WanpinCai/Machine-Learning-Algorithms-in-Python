{
  "nbformat": 4,
  "nbformat_minor": 0,
  "metadata": {
    "colab": {
      "provenance": [],
      "authorship_tag": "ABX9TyOD1w2vEDhAqypTTq3zELDx",
      "include_colab_link": true
    },
    "kernelspec": {
      "name": "python3",
      "display_name": "Python 3"
    },
    "language_info": {
      "name": "python"
    }
  },
  "cells": [
    {
      "cell_type": "markdown",
      "metadata": {
        "id": "view-in-github",
        "colab_type": "text"
      },
      "source": [
        "<a href=\"https://colab.research.google.com/github/WanpinCai/Machine-Learning-Algorithms-in-Python/blob/main/dara_preprocessing_tools.ipynb\" target=\"_parent\"><img src=\"https://colab.research.google.com/assets/colab-badge.svg\" alt=\"Open In Colab\"/></a>"
      ]
    },
    {
      "cell_type": "markdown",
      "source": [
        "**Data Preprocessing Tools**"
      ],
      "metadata": {
        "id": "3dmEMNXYCmuU"
      }
    },
    {
      "cell_type": "markdown",
      "source": [
        "**Importing the libraries**"
      ],
      "metadata": {
        "id": "FcvAwAC0Ct3t"
      }
    },
    {
      "cell_type": "code",
      "source": [
        "import numpy as np\n",
        "import matplotlib.pyplot as plt\n",
        "import pandas as pd"
      ],
      "metadata": {
        "id": "ql_5ZiRdDTrX"
      },
      "execution_count": null,
      "outputs": []
    },
    {
      "cell_type": "markdown",
      "source": [
        "**Importing the dataset**"
      ],
      "metadata": {
        "id": "Mvqu3KzICyF2"
      }
    },
    {
      "cell_type": "code",
      "source": [
        "from re import X\n",
        "dataset = pd.read_csv('Iris.csv')\n",
        "X = dataset.iloc[:, :-1].values\n",
        "y = dataset.iloc[:, -1].values"
      ],
      "metadata": {
        "id": "G-q4KX2tDdxT"
      },
      "execution_count": null,
      "outputs": []
    },
    {
      "cell_type": "code",
      "source": [
        "print(X)"
      ],
      "metadata": {
        "colab": {
          "base_uri": "https://localhost:8080/"
        },
        "collapsed": true,
        "id": "iwflmn_4Dqe7",
        "outputId": "838555c6-8d69-479b-c32c-cc6943dd9693"
      },
      "execution_count": null,
      "outputs": [
        {
          "output_type": "stream",
          "name": "stdout",
          "text": [
            "[[1.00e+00 5.10e+00 3.50e+00 1.40e+00 2.00e-01]\n",
            " [2.00e+00 4.90e+00 3.00e+00 1.40e+00 2.00e-01]\n",
            " [3.00e+00 4.70e+00 3.20e+00 1.30e+00 2.00e-01]\n",
            " [4.00e+00 4.60e+00 3.10e+00 1.50e+00 2.00e-01]\n",
            " [5.00e+00 5.00e+00 3.60e+00 1.40e+00 2.00e-01]\n",
            " [6.00e+00 5.40e+00 3.90e+00 1.70e+00 4.00e-01]\n",
            " [7.00e+00 4.60e+00 3.40e+00 1.40e+00 3.00e-01]\n",
            " [8.00e+00 5.00e+00 3.40e+00 1.50e+00 2.00e-01]\n",
            " [9.00e+00 4.40e+00 2.90e+00 1.40e+00 2.00e-01]\n",
            " [1.00e+01 4.90e+00 3.10e+00 1.50e+00 1.00e-01]\n",
            " [1.10e+01 5.40e+00 3.70e+00 1.50e+00 2.00e-01]\n",
            " [1.20e+01 4.80e+00 3.40e+00 1.60e+00 2.00e-01]\n",
            " [1.30e+01 4.80e+00 3.00e+00 1.40e+00 1.00e-01]\n",
            " [1.40e+01 4.30e+00 3.00e+00 1.10e+00 1.00e-01]\n",
            " [1.50e+01 5.80e+00 4.00e+00 1.20e+00 2.00e-01]\n",
            " [1.60e+01 5.70e+00 4.40e+00 1.50e+00 4.00e-01]\n",
            " [1.70e+01 5.40e+00 3.90e+00 1.30e+00 4.00e-01]\n",
            " [1.80e+01 5.10e+00 3.50e+00 1.40e+00 3.00e-01]\n",
            " [1.90e+01 5.70e+00 3.80e+00 1.70e+00 3.00e-01]\n",
            " [2.00e+01 5.10e+00 3.80e+00 1.50e+00 3.00e-01]\n",
            " [2.10e+01 5.40e+00 3.40e+00 1.70e+00 2.00e-01]\n",
            " [2.20e+01 5.10e+00 3.70e+00 1.50e+00 4.00e-01]\n",
            " [2.30e+01 4.60e+00 3.60e+00 1.00e+00 2.00e-01]\n",
            " [2.40e+01 5.10e+00 3.30e+00 1.70e+00 5.00e-01]\n",
            " [2.50e+01 4.80e+00 3.40e+00 1.90e+00 2.00e-01]\n",
            " [2.60e+01 5.00e+00 3.00e+00 1.60e+00 2.00e-01]\n",
            " [2.70e+01 5.00e+00 3.40e+00 1.60e+00 4.00e-01]\n",
            " [2.80e+01 5.20e+00 3.50e+00 1.50e+00 2.00e-01]\n",
            " [2.90e+01 5.20e+00 3.40e+00 1.40e+00 2.00e-01]\n",
            " [3.00e+01 4.70e+00 3.20e+00 1.60e+00 2.00e-01]\n",
            " [3.10e+01 4.80e+00 3.10e+00 1.60e+00 2.00e-01]\n",
            " [3.20e+01 5.40e+00 3.40e+00 1.50e+00 4.00e-01]\n",
            " [3.30e+01 5.20e+00 4.10e+00 1.50e+00 1.00e-01]\n",
            " [3.40e+01 5.50e+00 4.20e+00 1.40e+00 2.00e-01]\n",
            " [3.50e+01 4.90e+00 3.10e+00 1.50e+00 1.00e-01]\n",
            " [3.60e+01 5.00e+00 3.20e+00 1.20e+00 2.00e-01]\n",
            " [3.70e+01 5.50e+00 3.50e+00 1.30e+00 2.00e-01]\n",
            " [3.80e+01 4.90e+00 3.10e+00 1.50e+00 1.00e-01]\n",
            " [3.90e+01 4.40e+00 3.00e+00 1.30e+00 2.00e-01]\n",
            " [4.00e+01 5.10e+00 3.40e+00 1.50e+00 2.00e-01]\n",
            " [4.10e+01 5.00e+00 3.50e+00 1.30e+00 3.00e-01]\n",
            " [4.20e+01 4.50e+00 2.30e+00 1.30e+00 3.00e-01]\n",
            " [4.30e+01 4.40e+00 3.20e+00 1.30e+00 2.00e-01]\n",
            " [4.40e+01 5.00e+00 3.50e+00 1.60e+00 6.00e-01]\n",
            " [4.50e+01 5.10e+00 3.80e+00 1.90e+00 4.00e-01]\n",
            " [4.60e+01 4.80e+00 3.00e+00 1.40e+00 3.00e-01]\n",
            " [4.70e+01 5.10e+00 3.80e+00 1.60e+00 2.00e-01]\n",
            " [4.80e+01 4.60e+00 3.20e+00 1.40e+00 2.00e-01]\n",
            " [4.90e+01 5.30e+00 3.70e+00 1.50e+00 2.00e-01]\n",
            " [5.00e+01 5.00e+00 3.30e+00 1.40e+00 2.00e-01]\n",
            " [5.10e+01 7.00e+00 3.20e+00 4.70e+00 1.40e+00]\n",
            " [5.20e+01 6.40e+00 3.20e+00 4.50e+00 1.50e+00]\n",
            " [5.30e+01 6.90e+00 3.10e+00 4.90e+00 1.50e+00]\n",
            " [5.40e+01 5.50e+00 2.30e+00 4.00e+00 1.30e+00]\n",
            " [5.50e+01 6.50e+00 2.80e+00 4.60e+00 1.50e+00]\n",
            " [5.60e+01 5.70e+00 2.80e+00 4.50e+00 1.30e+00]\n",
            " [5.70e+01 6.30e+00 3.30e+00 4.70e+00 1.60e+00]\n",
            " [5.80e+01 4.90e+00 2.40e+00 3.30e+00 1.00e+00]\n",
            " [5.90e+01 6.60e+00 2.90e+00 4.60e+00 1.30e+00]\n",
            " [6.00e+01 5.20e+00 2.70e+00 3.90e+00 1.40e+00]\n",
            " [6.10e+01 5.00e+00 2.00e+00 3.50e+00 1.00e+00]\n",
            " [6.20e+01 5.90e+00 3.00e+00 4.20e+00 1.50e+00]\n",
            " [6.30e+01 6.00e+00 2.20e+00 4.00e+00 1.00e+00]\n",
            " [6.40e+01 6.10e+00 2.90e+00 4.70e+00 1.40e+00]\n",
            " [6.50e+01 5.60e+00 2.90e+00 3.60e+00 1.30e+00]\n",
            " [6.60e+01 6.70e+00 3.10e+00 4.40e+00 1.40e+00]\n",
            " [6.70e+01 5.60e+00 3.00e+00 4.50e+00 1.50e+00]\n",
            " [6.80e+01 5.80e+00 2.70e+00 4.10e+00 1.00e+00]\n",
            " [6.90e+01 6.20e+00 2.20e+00 4.50e+00 1.50e+00]\n",
            " [7.00e+01 5.60e+00 2.50e+00 3.90e+00 1.10e+00]\n",
            " [7.10e+01 5.90e+00 3.20e+00 4.80e+00 1.80e+00]\n",
            " [7.20e+01 6.10e+00 2.80e+00 4.00e+00 1.30e+00]\n",
            " [7.30e+01 6.30e+00 2.50e+00 4.90e+00 1.50e+00]\n",
            " [7.40e+01 6.10e+00 2.80e+00 4.70e+00 1.20e+00]\n",
            " [7.50e+01 6.40e+00 2.90e+00 4.30e+00 1.30e+00]\n",
            " [7.60e+01 6.60e+00 3.00e+00 4.40e+00 1.40e+00]\n",
            " [7.70e+01 6.80e+00 2.80e+00 4.80e+00 1.40e+00]\n",
            " [7.80e+01 6.70e+00 3.00e+00 5.00e+00 1.70e+00]\n",
            " [7.90e+01 6.00e+00 2.90e+00 4.50e+00 1.50e+00]\n",
            " [8.00e+01 5.70e+00 2.60e+00 3.50e+00 1.00e+00]\n",
            " [8.10e+01 5.50e+00 2.40e+00 3.80e+00 1.10e+00]\n",
            " [8.20e+01 5.50e+00 2.40e+00 3.70e+00 1.00e+00]\n",
            " [8.30e+01 5.80e+00 2.70e+00 3.90e+00 1.20e+00]\n",
            " [8.40e+01 6.00e+00 2.70e+00 5.10e+00 1.60e+00]\n",
            " [8.50e+01 5.40e+00 3.00e+00 4.50e+00 1.50e+00]\n",
            " [8.60e+01 6.00e+00 3.40e+00 4.50e+00 1.60e+00]\n",
            " [8.70e+01 6.70e+00 3.10e+00 4.70e+00 1.50e+00]\n",
            " [8.80e+01 6.30e+00 2.30e+00 4.40e+00 1.30e+00]\n",
            " [8.90e+01 5.60e+00 3.00e+00 4.10e+00 1.30e+00]\n",
            " [9.00e+01 5.50e+00 2.50e+00 4.00e+00 1.30e+00]\n",
            " [9.10e+01 5.50e+00 2.60e+00 4.40e+00 1.20e+00]\n",
            " [9.20e+01 6.10e+00 3.00e+00 4.60e+00 1.40e+00]\n",
            " [9.30e+01 5.80e+00 2.60e+00 4.00e+00 1.20e+00]\n",
            " [9.40e+01 5.00e+00 2.30e+00 3.30e+00 1.00e+00]\n",
            " [9.50e+01 5.60e+00 2.70e+00 4.20e+00 1.30e+00]\n",
            " [9.60e+01 5.70e+00 3.00e+00 4.20e+00 1.20e+00]\n",
            " [9.70e+01 5.70e+00 2.90e+00 4.20e+00 1.30e+00]\n",
            " [9.80e+01 6.20e+00 2.90e+00 4.30e+00 1.30e+00]\n",
            " [9.90e+01 5.10e+00 2.50e+00 3.00e+00 1.10e+00]\n",
            " [1.00e+02 5.70e+00 2.80e+00 4.10e+00 1.30e+00]\n",
            " [1.01e+02 6.30e+00 3.30e+00 6.00e+00 2.50e+00]\n",
            " [1.02e+02 5.80e+00 2.70e+00 5.10e+00 1.90e+00]\n",
            " [1.03e+02 7.10e+00 3.00e+00 5.90e+00 2.10e+00]\n",
            " [1.04e+02 6.30e+00 2.90e+00 5.60e+00 1.80e+00]\n",
            " [1.05e+02 6.50e+00 3.00e+00 5.80e+00 2.20e+00]\n",
            " [1.06e+02 7.60e+00 3.00e+00 6.60e+00 2.10e+00]\n",
            " [1.07e+02 4.90e+00 2.50e+00 4.50e+00 1.70e+00]\n",
            " [1.08e+02 7.30e+00 2.90e+00 6.30e+00 1.80e+00]\n",
            " [1.09e+02 6.70e+00 2.50e+00 5.80e+00 1.80e+00]\n",
            " [1.10e+02 7.20e+00 3.60e+00 6.10e+00 2.50e+00]\n",
            " [1.11e+02 6.50e+00 3.20e+00 5.10e+00 2.00e+00]\n",
            " [1.12e+02 6.40e+00 2.70e+00 5.30e+00 1.90e+00]\n",
            " [1.13e+02 6.80e+00 3.00e+00 5.50e+00 2.10e+00]\n",
            " [1.14e+02 5.70e+00 2.50e+00 5.00e+00 2.00e+00]\n",
            " [1.15e+02 5.80e+00 2.80e+00 5.10e+00 2.40e+00]\n",
            " [1.16e+02 6.40e+00 3.20e+00 5.30e+00 2.30e+00]\n",
            " [1.17e+02 6.50e+00 3.00e+00 5.50e+00 1.80e+00]\n",
            " [1.18e+02 7.70e+00 3.80e+00 6.70e+00 2.20e+00]\n",
            " [1.19e+02 7.70e+00 2.60e+00 6.90e+00 2.30e+00]\n",
            " [1.20e+02 6.00e+00 2.20e+00 5.00e+00 1.50e+00]\n",
            " [1.21e+02 6.90e+00 3.20e+00 5.70e+00 2.30e+00]\n",
            " [1.22e+02 5.60e+00 2.80e+00 4.90e+00 2.00e+00]\n",
            " [1.23e+02 7.70e+00 2.80e+00 6.70e+00 2.00e+00]\n",
            " [1.24e+02 6.30e+00 2.70e+00 4.90e+00 1.80e+00]\n",
            " [1.25e+02 6.70e+00 3.30e+00 5.70e+00 2.10e+00]\n",
            " [1.26e+02 7.20e+00 3.20e+00 6.00e+00 1.80e+00]\n",
            " [1.27e+02 6.20e+00 2.80e+00 4.80e+00 1.80e+00]\n",
            " [1.28e+02 6.10e+00 3.00e+00 4.90e+00 1.80e+00]\n",
            " [1.29e+02 6.40e+00 2.80e+00 5.60e+00 2.10e+00]\n",
            " [1.30e+02 7.20e+00 3.00e+00 5.80e+00 1.60e+00]\n",
            " [1.31e+02 7.40e+00 2.80e+00 6.10e+00 1.90e+00]\n",
            " [1.32e+02 7.90e+00 3.80e+00 6.40e+00 2.00e+00]\n",
            " [1.33e+02 6.40e+00 2.80e+00 5.60e+00 2.20e+00]\n",
            " [1.34e+02 6.30e+00 2.80e+00 5.10e+00 1.50e+00]\n",
            " [1.35e+02 6.10e+00 2.60e+00 5.60e+00 1.40e+00]\n",
            " [1.36e+02 7.70e+00 3.00e+00 6.10e+00 2.30e+00]\n",
            " [1.37e+02 6.30e+00 3.40e+00 5.60e+00 2.40e+00]\n",
            " [1.38e+02 6.40e+00 3.10e+00 5.50e+00 1.80e+00]\n",
            " [1.39e+02 6.00e+00 3.00e+00 4.80e+00 1.80e+00]\n",
            " [1.40e+02 6.90e+00 3.10e+00 5.40e+00 2.10e+00]\n",
            " [1.41e+02 6.70e+00 3.10e+00 5.60e+00 2.40e+00]\n",
            " [1.42e+02 6.90e+00 3.10e+00 5.10e+00 2.30e+00]\n",
            " [1.43e+02 5.80e+00 2.70e+00 5.10e+00 1.90e+00]\n",
            " [1.44e+02 6.80e+00 3.20e+00 5.90e+00 2.30e+00]\n",
            " [1.45e+02 6.70e+00 3.30e+00 5.70e+00 2.50e+00]\n",
            " [1.46e+02 6.70e+00 3.00e+00 5.20e+00 2.30e+00]\n",
            " [1.47e+02 6.30e+00 2.50e+00 5.00e+00 1.90e+00]\n",
            " [1.48e+02 6.50e+00 3.00e+00 5.20e+00 2.00e+00]\n",
            " [1.49e+02 6.20e+00 3.40e+00 5.40e+00 2.30e+00]\n",
            " [1.50e+02 5.90e+00 3.00e+00 5.10e+00 1.80e+00]]\n"
          ]
        }
      ]
    },
    {
      "cell_type": "code",
      "source": [
        "print(y)"
      ],
      "metadata": {
        "colab": {
          "base_uri": "https://localhost:8080/"
        },
        "collapsed": true,
        "id": "k_8hIamtDuUU",
        "outputId": "1cc9c37f-87fa-442c-aa9e-13589eac1c77"
      },
      "execution_count": null,
      "outputs": [
        {
          "output_type": "stream",
          "name": "stdout",
          "text": [
            "['Iris-setosa' 'Iris-setosa' 'Iris-setosa' 'Iris-setosa' 'Iris-setosa'\n",
            " 'Iris-setosa' 'Iris-setosa' 'Iris-setosa' 'Iris-setosa' 'Iris-setosa'\n",
            " 'Iris-setosa' 'Iris-setosa' 'Iris-setosa' 'Iris-setosa' 'Iris-setosa'\n",
            " 'Iris-setosa' 'Iris-setosa' 'Iris-setosa' 'Iris-setosa' 'Iris-setosa'\n",
            " 'Iris-setosa' 'Iris-setosa' 'Iris-setosa' 'Iris-setosa' 'Iris-setosa'\n",
            " 'Iris-setosa' 'Iris-setosa' 'Iris-setosa' 'Iris-setosa' 'Iris-setosa'\n",
            " 'Iris-setosa' 'Iris-setosa' 'Iris-setosa' 'Iris-setosa' 'Iris-setosa'\n",
            " 'Iris-setosa' 'Iris-setosa' 'Iris-setosa' 'Iris-setosa' 'Iris-setosa'\n",
            " 'Iris-setosa' 'Iris-setosa' 'Iris-setosa' 'Iris-setosa' 'Iris-setosa'\n",
            " 'Iris-setosa' 'Iris-setosa' 'Iris-setosa' 'Iris-setosa' 'Iris-setosa'\n",
            " 'Iris-versicolor' 'Iris-versicolor' 'Iris-versicolor' 'Iris-versicolor'\n",
            " 'Iris-versicolor' 'Iris-versicolor' 'Iris-versicolor' 'Iris-versicolor'\n",
            " 'Iris-versicolor' 'Iris-versicolor' 'Iris-versicolor' 'Iris-versicolor'\n",
            " 'Iris-versicolor' 'Iris-versicolor' 'Iris-versicolor' 'Iris-versicolor'\n",
            " 'Iris-versicolor' 'Iris-versicolor' 'Iris-versicolor' 'Iris-versicolor'\n",
            " 'Iris-versicolor' 'Iris-versicolor' 'Iris-versicolor' 'Iris-versicolor'\n",
            " 'Iris-versicolor' 'Iris-versicolor' 'Iris-versicolor' 'Iris-versicolor'\n",
            " 'Iris-versicolor' 'Iris-versicolor' 'Iris-versicolor' 'Iris-versicolor'\n",
            " 'Iris-versicolor' 'Iris-versicolor' 'Iris-versicolor' 'Iris-versicolor'\n",
            " 'Iris-versicolor' 'Iris-versicolor' 'Iris-versicolor' 'Iris-versicolor'\n",
            " 'Iris-versicolor' 'Iris-versicolor' 'Iris-versicolor' 'Iris-versicolor'\n",
            " 'Iris-versicolor' 'Iris-versicolor' 'Iris-versicolor' 'Iris-versicolor'\n",
            " 'Iris-versicolor' 'Iris-versicolor' 'Iris-virginica' 'Iris-virginica'\n",
            " 'Iris-virginica' 'Iris-virginica' 'Iris-virginica' 'Iris-virginica'\n",
            " 'Iris-virginica' 'Iris-virginica' 'Iris-virginica' 'Iris-virginica'\n",
            " 'Iris-virginica' 'Iris-virginica' 'Iris-virginica' 'Iris-virginica'\n",
            " 'Iris-virginica' 'Iris-virginica' 'Iris-virginica' 'Iris-virginica'\n",
            " 'Iris-virginica' 'Iris-virginica' 'Iris-virginica' 'Iris-virginica'\n",
            " 'Iris-virginica' 'Iris-virginica' 'Iris-virginica' 'Iris-virginica'\n",
            " 'Iris-virginica' 'Iris-virginica' 'Iris-virginica' 'Iris-virginica'\n",
            " 'Iris-virginica' 'Iris-virginica' 'Iris-virginica' 'Iris-virginica'\n",
            " 'Iris-virginica' 'Iris-virginica' 'Iris-virginica' 'Iris-virginica'\n",
            " 'Iris-virginica' 'Iris-virginica' 'Iris-virginica' 'Iris-virginica'\n",
            " 'Iris-virginica' 'Iris-virginica' 'Iris-virginica' 'Iris-virginica'\n",
            " 'Iris-virginica' 'Iris-virginica' 'Iris-virginica' 'Iris-virginica']\n"
          ]
        }
      ]
    },
    {
      "cell_type": "code",
      "source": [
        "print(type(X), type(y))"
      ],
      "metadata": {
        "colab": {
          "base_uri": "https://localhost:8080/"
        },
        "id": "VQ_66K-CZDvG",
        "outputId": "dc1c95d9-6174-4ca9-bf74-57f531f37356"
      },
      "execution_count": null,
      "outputs": [
        {
          "output_type": "stream",
          "name": "stdout",
          "text": [
            "<class 'numpy.ndarray'> <class 'numpy.ndarray'>\n"
          ]
        }
      ]
    },
    {
      "cell_type": "code",
      "source": [
        "print(X.shape, y.shape)"
      ],
      "metadata": {
        "colab": {
          "base_uri": "https://localhost:8080/"
        },
        "id": "tjawiglTZTQ4",
        "outputId": "3db47e0d-0827-4cd1-8c83-828e96246b73"
      },
      "execution_count": null,
      "outputs": [
        {
          "output_type": "stream",
          "name": "stdout",
          "text": [
            "(150, 5) (150,)\n"
          ]
        }
      ]
    },
    {
      "cell_type": "markdown",
      "source": [
        "**Taking care of missing data**"
      ],
      "metadata": {
        "id": "C8SdnVZDC1jC"
      }
    },
    {
      "cell_type": "code",
      "source": [
        "from sklearn.impute import SimpleImputer\n",
        "imputer = SimpleImputer(missing_values=np.nan, strategy='mean')\n",
        "imputer.fit(X[:, 1:4])\n",
        "X[:, 1:4] = imputer.transform(X[:, 1:4])"
      ],
      "metadata": {
        "id": "JlRQotl-EIze"
      },
      "execution_count": null,
      "outputs": []
    },
    {
      "cell_type": "code",
      "source": [
        "print(X)"
      ],
      "metadata": {
        "colab": {
          "base_uri": "https://localhost:8080/"
        },
        "collapsed": true,
        "id": "km5yiWePHgVS",
        "outputId": "0fbee3c8-e3e5-4423-9f3c-01ca88eb67f0"
      },
      "execution_count": null,
      "outputs": [
        {
          "output_type": "stream",
          "name": "stdout",
          "text": [
            "[[1.00e+00 5.10e+00 3.50e+00 1.40e+00 2.00e-01]\n",
            " [2.00e+00 4.90e+00 3.00e+00 1.40e+00 2.00e-01]\n",
            " [3.00e+00 4.70e+00 3.20e+00 1.30e+00 2.00e-01]\n",
            " [4.00e+00 4.60e+00 3.10e+00 1.50e+00 2.00e-01]\n",
            " [5.00e+00 5.00e+00 3.60e+00 1.40e+00 2.00e-01]\n",
            " [6.00e+00 5.40e+00 3.90e+00 1.70e+00 4.00e-01]\n",
            " [7.00e+00 4.60e+00 3.40e+00 1.40e+00 3.00e-01]\n",
            " [8.00e+00 5.00e+00 3.40e+00 1.50e+00 2.00e-01]\n",
            " [9.00e+00 4.40e+00 2.90e+00 1.40e+00 2.00e-01]\n",
            " [1.00e+01 4.90e+00 3.10e+00 1.50e+00 1.00e-01]\n",
            " [1.10e+01 5.40e+00 3.70e+00 1.50e+00 2.00e-01]\n",
            " [1.20e+01 4.80e+00 3.40e+00 1.60e+00 2.00e-01]\n",
            " [1.30e+01 4.80e+00 3.00e+00 1.40e+00 1.00e-01]\n",
            " [1.40e+01 4.30e+00 3.00e+00 1.10e+00 1.00e-01]\n",
            " [1.50e+01 5.80e+00 4.00e+00 1.20e+00 2.00e-01]\n",
            " [1.60e+01 5.70e+00 4.40e+00 1.50e+00 4.00e-01]\n",
            " [1.70e+01 5.40e+00 3.90e+00 1.30e+00 4.00e-01]\n",
            " [1.80e+01 5.10e+00 3.50e+00 1.40e+00 3.00e-01]\n",
            " [1.90e+01 5.70e+00 3.80e+00 1.70e+00 3.00e-01]\n",
            " [2.00e+01 5.10e+00 3.80e+00 1.50e+00 3.00e-01]\n",
            " [2.10e+01 5.40e+00 3.40e+00 1.70e+00 2.00e-01]\n",
            " [2.20e+01 5.10e+00 3.70e+00 1.50e+00 4.00e-01]\n",
            " [2.30e+01 4.60e+00 3.60e+00 1.00e+00 2.00e-01]\n",
            " [2.40e+01 5.10e+00 3.30e+00 1.70e+00 5.00e-01]\n",
            " [2.50e+01 4.80e+00 3.40e+00 1.90e+00 2.00e-01]\n",
            " [2.60e+01 5.00e+00 3.00e+00 1.60e+00 2.00e-01]\n",
            " [2.70e+01 5.00e+00 3.40e+00 1.60e+00 4.00e-01]\n",
            " [2.80e+01 5.20e+00 3.50e+00 1.50e+00 2.00e-01]\n",
            " [2.90e+01 5.20e+00 3.40e+00 1.40e+00 2.00e-01]\n",
            " [3.00e+01 4.70e+00 3.20e+00 1.60e+00 2.00e-01]\n",
            " [3.10e+01 4.80e+00 3.10e+00 1.60e+00 2.00e-01]\n",
            " [3.20e+01 5.40e+00 3.40e+00 1.50e+00 4.00e-01]\n",
            " [3.30e+01 5.20e+00 4.10e+00 1.50e+00 1.00e-01]\n",
            " [3.40e+01 5.50e+00 4.20e+00 1.40e+00 2.00e-01]\n",
            " [3.50e+01 4.90e+00 3.10e+00 1.50e+00 1.00e-01]\n",
            " [3.60e+01 5.00e+00 3.20e+00 1.20e+00 2.00e-01]\n",
            " [3.70e+01 5.50e+00 3.50e+00 1.30e+00 2.00e-01]\n",
            " [3.80e+01 4.90e+00 3.10e+00 1.50e+00 1.00e-01]\n",
            " [3.90e+01 4.40e+00 3.00e+00 1.30e+00 2.00e-01]\n",
            " [4.00e+01 5.10e+00 3.40e+00 1.50e+00 2.00e-01]\n",
            " [4.10e+01 5.00e+00 3.50e+00 1.30e+00 3.00e-01]\n",
            " [4.20e+01 4.50e+00 2.30e+00 1.30e+00 3.00e-01]\n",
            " [4.30e+01 4.40e+00 3.20e+00 1.30e+00 2.00e-01]\n",
            " [4.40e+01 5.00e+00 3.50e+00 1.60e+00 6.00e-01]\n",
            " [4.50e+01 5.10e+00 3.80e+00 1.90e+00 4.00e-01]\n",
            " [4.60e+01 4.80e+00 3.00e+00 1.40e+00 3.00e-01]\n",
            " [4.70e+01 5.10e+00 3.80e+00 1.60e+00 2.00e-01]\n",
            " [4.80e+01 4.60e+00 3.20e+00 1.40e+00 2.00e-01]\n",
            " [4.90e+01 5.30e+00 3.70e+00 1.50e+00 2.00e-01]\n",
            " [5.00e+01 5.00e+00 3.30e+00 1.40e+00 2.00e-01]\n",
            " [5.10e+01 7.00e+00 3.20e+00 4.70e+00 1.40e+00]\n",
            " [5.20e+01 6.40e+00 3.20e+00 4.50e+00 1.50e+00]\n",
            " [5.30e+01 6.90e+00 3.10e+00 4.90e+00 1.50e+00]\n",
            " [5.40e+01 5.50e+00 2.30e+00 4.00e+00 1.30e+00]\n",
            " [5.50e+01 6.50e+00 2.80e+00 4.60e+00 1.50e+00]\n",
            " [5.60e+01 5.70e+00 2.80e+00 4.50e+00 1.30e+00]\n",
            " [5.70e+01 6.30e+00 3.30e+00 4.70e+00 1.60e+00]\n",
            " [5.80e+01 4.90e+00 2.40e+00 3.30e+00 1.00e+00]\n",
            " [5.90e+01 6.60e+00 2.90e+00 4.60e+00 1.30e+00]\n",
            " [6.00e+01 5.20e+00 2.70e+00 3.90e+00 1.40e+00]\n",
            " [6.10e+01 5.00e+00 2.00e+00 3.50e+00 1.00e+00]\n",
            " [6.20e+01 5.90e+00 3.00e+00 4.20e+00 1.50e+00]\n",
            " [6.30e+01 6.00e+00 2.20e+00 4.00e+00 1.00e+00]\n",
            " [6.40e+01 6.10e+00 2.90e+00 4.70e+00 1.40e+00]\n",
            " [6.50e+01 5.60e+00 2.90e+00 3.60e+00 1.30e+00]\n",
            " [6.60e+01 6.70e+00 3.10e+00 4.40e+00 1.40e+00]\n",
            " [6.70e+01 5.60e+00 3.00e+00 4.50e+00 1.50e+00]\n",
            " [6.80e+01 5.80e+00 2.70e+00 4.10e+00 1.00e+00]\n",
            " [6.90e+01 6.20e+00 2.20e+00 4.50e+00 1.50e+00]\n",
            " [7.00e+01 5.60e+00 2.50e+00 3.90e+00 1.10e+00]\n",
            " [7.10e+01 5.90e+00 3.20e+00 4.80e+00 1.80e+00]\n",
            " [7.20e+01 6.10e+00 2.80e+00 4.00e+00 1.30e+00]\n",
            " [7.30e+01 6.30e+00 2.50e+00 4.90e+00 1.50e+00]\n",
            " [7.40e+01 6.10e+00 2.80e+00 4.70e+00 1.20e+00]\n",
            " [7.50e+01 6.40e+00 2.90e+00 4.30e+00 1.30e+00]\n",
            " [7.60e+01 6.60e+00 3.00e+00 4.40e+00 1.40e+00]\n",
            " [7.70e+01 6.80e+00 2.80e+00 4.80e+00 1.40e+00]\n",
            " [7.80e+01 6.70e+00 3.00e+00 5.00e+00 1.70e+00]\n",
            " [7.90e+01 6.00e+00 2.90e+00 4.50e+00 1.50e+00]\n",
            " [8.00e+01 5.70e+00 2.60e+00 3.50e+00 1.00e+00]\n",
            " [8.10e+01 5.50e+00 2.40e+00 3.80e+00 1.10e+00]\n",
            " [8.20e+01 5.50e+00 2.40e+00 3.70e+00 1.00e+00]\n",
            " [8.30e+01 5.80e+00 2.70e+00 3.90e+00 1.20e+00]\n",
            " [8.40e+01 6.00e+00 2.70e+00 5.10e+00 1.60e+00]\n",
            " [8.50e+01 5.40e+00 3.00e+00 4.50e+00 1.50e+00]\n",
            " [8.60e+01 6.00e+00 3.40e+00 4.50e+00 1.60e+00]\n",
            " [8.70e+01 6.70e+00 3.10e+00 4.70e+00 1.50e+00]\n",
            " [8.80e+01 6.30e+00 2.30e+00 4.40e+00 1.30e+00]\n",
            " [8.90e+01 5.60e+00 3.00e+00 4.10e+00 1.30e+00]\n",
            " [9.00e+01 5.50e+00 2.50e+00 4.00e+00 1.30e+00]\n",
            " [9.10e+01 5.50e+00 2.60e+00 4.40e+00 1.20e+00]\n",
            " [9.20e+01 6.10e+00 3.00e+00 4.60e+00 1.40e+00]\n",
            " [9.30e+01 5.80e+00 2.60e+00 4.00e+00 1.20e+00]\n",
            " [9.40e+01 5.00e+00 2.30e+00 3.30e+00 1.00e+00]\n",
            " [9.50e+01 5.60e+00 2.70e+00 4.20e+00 1.30e+00]\n",
            " [9.60e+01 5.70e+00 3.00e+00 4.20e+00 1.20e+00]\n",
            " [9.70e+01 5.70e+00 2.90e+00 4.20e+00 1.30e+00]\n",
            " [9.80e+01 6.20e+00 2.90e+00 4.30e+00 1.30e+00]\n",
            " [9.90e+01 5.10e+00 2.50e+00 3.00e+00 1.10e+00]\n",
            " [1.00e+02 5.70e+00 2.80e+00 4.10e+00 1.30e+00]\n",
            " [1.01e+02 6.30e+00 3.30e+00 6.00e+00 2.50e+00]\n",
            " [1.02e+02 5.80e+00 2.70e+00 5.10e+00 1.90e+00]\n",
            " [1.03e+02 7.10e+00 3.00e+00 5.90e+00 2.10e+00]\n",
            " [1.04e+02 6.30e+00 2.90e+00 5.60e+00 1.80e+00]\n",
            " [1.05e+02 6.50e+00 3.00e+00 5.80e+00 2.20e+00]\n",
            " [1.06e+02 7.60e+00 3.00e+00 6.60e+00 2.10e+00]\n",
            " [1.07e+02 4.90e+00 2.50e+00 4.50e+00 1.70e+00]\n",
            " [1.08e+02 7.30e+00 2.90e+00 6.30e+00 1.80e+00]\n",
            " [1.09e+02 6.70e+00 2.50e+00 5.80e+00 1.80e+00]\n",
            " [1.10e+02 7.20e+00 3.60e+00 6.10e+00 2.50e+00]\n",
            " [1.11e+02 6.50e+00 3.20e+00 5.10e+00 2.00e+00]\n",
            " [1.12e+02 6.40e+00 2.70e+00 5.30e+00 1.90e+00]\n",
            " [1.13e+02 6.80e+00 3.00e+00 5.50e+00 2.10e+00]\n",
            " [1.14e+02 5.70e+00 2.50e+00 5.00e+00 2.00e+00]\n",
            " [1.15e+02 5.80e+00 2.80e+00 5.10e+00 2.40e+00]\n",
            " [1.16e+02 6.40e+00 3.20e+00 5.30e+00 2.30e+00]\n",
            " [1.17e+02 6.50e+00 3.00e+00 5.50e+00 1.80e+00]\n",
            " [1.18e+02 7.70e+00 3.80e+00 6.70e+00 2.20e+00]\n",
            " [1.19e+02 7.70e+00 2.60e+00 6.90e+00 2.30e+00]\n",
            " [1.20e+02 6.00e+00 2.20e+00 5.00e+00 1.50e+00]\n",
            " [1.21e+02 6.90e+00 3.20e+00 5.70e+00 2.30e+00]\n",
            " [1.22e+02 5.60e+00 2.80e+00 4.90e+00 2.00e+00]\n",
            " [1.23e+02 7.70e+00 2.80e+00 6.70e+00 2.00e+00]\n",
            " [1.24e+02 6.30e+00 2.70e+00 4.90e+00 1.80e+00]\n",
            " [1.25e+02 6.70e+00 3.30e+00 5.70e+00 2.10e+00]\n",
            " [1.26e+02 7.20e+00 3.20e+00 6.00e+00 1.80e+00]\n",
            " [1.27e+02 6.20e+00 2.80e+00 4.80e+00 1.80e+00]\n",
            " [1.28e+02 6.10e+00 3.00e+00 4.90e+00 1.80e+00]\n",
            " [1.29e+02 6.40e+00 2.80e+00 5.60e+00 2.10e+00]\n",
            " [1.30e+02 7.20e+00 3.00e+00 5.80e+00 1.60e+00]\n",
            " [1.31e+02 7.40e+00 2.80e+00 6.10e+00 1.90e+00]\n",
            " [1.32e+02 7.90e+00 3.80e+00 6.40e+00 2.00e+00]\n",
            " [1.33e+02 6.40e+00 2.80e+00 5.60e+00 2.20e+00]\n",
            " [1.34e+02 6.30e+00 2.80e+00 5.10e+00 1.50e+00]\n",
            " [1.35e+02 6.10e+00 2.60e+00 5.60e+00 1.40e+00]\n",
            " [1.36e+02 7.70e+00 3.00e+00 6.10e+00 2.30e+00]\n",
            " [1.37e+02 6.30e+00 3.40e+00 5.60e+00 2.40e+00]\n",
            " [1.38e+02 6.40e+00 3.10e+00 5.50e+00 1.80e+00]\n",
            " [1.39e+02 6.00e+00 3.00e+00 4.80e+00 1.80e+00]\n",
            " [1.40e+02 6.90e+00 3.10e+00 5.40e+00 2.10e+00]\n",
            " [1.41e+02 6.70e+00 3.10e+00 5.60e+00 2.40e+00]\n",
            " [1.42e+02 6.90e+00 3.10e+00 5.10e+00 2.30e+00]\n",
            " [1.43e+02 5.80e+00 2.70e+00 5.10e+00 1.90e+00]\n",
            " [1.44e+02 6.80e+00 3.20e+00 5.90e+00 2.30e+00]\n",
            " [1.45e+02 6.70e+00 3.30e+00 5.70e+00 2.50e+00]\n",
            " [1.46e+02 6.70e+00 3.00e+00 5.20e+00 2.30e+00]\n",
            " [1.47e+02 6.30e+00 2.50e+00 5.00e+00 1.90e+00]\n",
            " [1.48e+02 6.50e+00 3.00e+00 5.20e+00 2.00e+00]\n",
            " [1.49e+02 6.20e+00 3.40e+00 5.40e+00 2.30e+00]\n",
            " [1.50e+02 5.90e+00 3.00e+00 5.10e+00 1.80e+00]]\n"
          ]
        }
      ]
    },
    {
      "cell_type": "markdown",
      "source": [
        "**Encoding categorical data**"
      ],
      "metadata": {
        "id": "Os7iRsQyC55Q"
      }
    },
    {
      "cell_type": "markdown",
      "source": [
        "**Encoding the Independent variable**"
      ],
      "metadata": {
        "id": "luDHK9t7C9eg"
      }
    },
    {
      "cell_type": "code",
      "source": [
        "from sklearn.compose import ColumnTransformer\n",
        "from sklearn.preprocessing import OneHotEncoder\n",
        "ct = ColumnTransformer(transformers=[('encoder', OneHotEncoder(), [0])], remainder='passthrough')\n",
        "X = np.array(ct.fit_transform(X))"
      ],
      "metadata": {
        "id": "AqSr8dsjI4BR"
      },
      "execution_count": null,
      "outputs": []
    },
    {
      "cell_type": "code",
      "source": [
        "print(X)"
      ],
      "metadata": {
        "colab": {
          "base_uri": "https://localhost:8080/"
        },
        "collapsed": true,
        "id": "ch_03jfpKs-f",
        "outputId": "9a6d0257-bbe5-4991-d0e9-4203cdacd4e0"
      },
      "execution_count": null,
      "outputs": [
        {
          "output_type": "stream",
          "name": "stdout",
          "text": [
            "  (0, 0)\t1.0\n",
            "  (0, 150)\t5.1\n",
            "  (0, 151)\t3.5\n",
            "  (0, 152)\t1.4\n",
            "  (0, 153)\t0.2\n",
            "  (1, 1)\t1.0\n",
            "  (1, 150)\t4.9\n",
            "  (1, 151)\t3.0\n",
            "  (1, 152)\t1.4\n",
            "  (1, 153)\t0.2\n",
            "  (2, 2)\t1.0\n",
            "  (2, 150)\t4.7\n",
            "  (2, 151)\t3.2\n",
            "  (2, 152)\t1.3\n",
            "  (2, 153)\t0.2\n",
            "  (3, 3)\t1.0\n",
            "  (3, 150)\t4.6\n",
            "  (3, 151)\t3.1\n",
            "  (3, 152)\t1.5\n",
            "  (3, 153)\t0.2\n",
            "  (4, 4)\t1.0\n",
            "  (4, 150)\t5.0\n",
            "  (4, 151)\t3.6\n",
            "  (4, 152)\t1.4\n",
            "  (4, 153)\t0.2\n",
            "  :\t:\n",
            "  (145, 145)\t1.0\n",
            "  (145, 150)\t6.7\n",
            "  (145, 151)\t3.0\n",
            "  (145, 152)\t5.2\n",
            "  (145, 153)\t2.3\n",
            "  (146, 146)\t1.0\n",
            "  (146, 150)\t6.3\n",
            "  (146, 151)\t2.5\n",
            "  (146, 152)\t5.0\n",
            "  (146, 153)\t1.9\n",
            "  (147, 147)\t1.0\n",
            "  (147, 150)\t6.5\n",
            "  (147, 151)\t3.0\n",
            "  (147, 152)\t5.2\n",
            "  (147, 153)\t2.0\n",
            "  (148, 148)\t1.0\n",
            "  (148, 150)\t6.2\n",
            "  (148, 151)\t3.4\n",
            "  (148, 152)\t5.4\n",
            "  (148, 153)\t2.3\n",
            "  (149, 149)\t1.0\n",
            "  (149, 150)\t5.9\n",
            "  (149, 151)\t3.0\n",
            "  (149, 152)\t5.1\n",
            "  (149, 153)\t1.8\n"
          ]
        }
      ]
    },
    {
      "cell_type": "markdown",
      "source": [
        "**Encoding the Dependent Variable**"
      ],
      "metadata": {
        "id": "yP20jB2sDCYY"
      }
    },
    {
      "cell_type": "code",
      "source": [
        "from sklearn.preprocessing import LabelEncoder\n",
        "le = LabelEncoder()\n",
        "y = le.fit_transform(y)"
      ],
      "metadata": {
        "id": "zPOaiE5sI4eZ"
      },
      "execution_count": null,
      "outputs": []
    },
    {
      "cell_type": "code",
      "source": [
        "print(y)"
      ],
      "metadata": {
        "colab": {
          "base_uri": "https://localhost:8080/"
        },
        "id": "XTyEmVWfLfFe",
        "outputId": "a8a4776e-f0cc-4d19-dbbe-3d2123a48396"
      },
      "execution_count": null,
      "outputs": [
        {
          "output_type": "stream",
          "name": "stdout",
          "text": [
            "[0 0 0 0 0 0 0 0 0 0 0 0 0 0 0 0 0 0 0 0 0 0 0 0 0 0 0 0 0 0 0 0 0 0 0 0 0\n",
            " 0 0 0 0 0 0 0 0 0 0 0 0 0 1 1 1 1 1 1 1 1 1 1 1 1 1 1 1 1 1 1 1 1 1 1 1 1\n",
            " 1 1 1 1 1 1 1 1 1 1 1 1 1 1 1 1 1 1 1 1 1 1 1 1 1 1 2 2 2 2 2 2 2 2 2 2 2\n",
            " 2 2 2 2 2 2 2 2 2 2 2 2 2 2 2 2 2 2 2 2 2 2 2 2 2 2 2 2 2 2 2 2 2 2 2 2 2\n",
            " 2 2]\n"
          ]
        }
      ]
    },
    {
      "cell_type": "markdown",
      "source": [
        "**Splitting the dataset into the Training set and Test set**"
      ],
      "metadata": {
        "id": "19faHNkoDKCV"
      }
    },
    {
      "cell_type": "code",
      "source": [
        "print(X[:5])"
      ],
      "metadata": {
        "colab": {
          "base_uri": "https://localhost:8080/",
          "height": 144
        },
        "id": "kZfOBiefZj0y",
        "outputId": "9c31b64a-536a-4c7a-aee8-aea1873cac1b"
      },
      "execution_count": null,
      "outputs": [
        {
          "output_type": "error",
          "ename": "IndexError",
          "evalue": "too many indices for array: array is 0-dimensional, but 1 were indexed",
          "traceback": [
            "\u001b[0;31m---------------------------------------------------------------------------\u001b[0m",
            "\u001b[0;31mIndexError\u001b[0m                                Traceback (most recent call last)",
            "\u001b[0;32m<ipython-input-33-f3111c92c0b2>\u001b[0m in \u001b[0;36m<cell line: 1>\u001b[0;34m()\u001b[0m\n\u001b[0;32m----> 1\u001b[0;31m \u001b[0mprint\u001b[0m\u001b[0;34m(\u001b[0m\u001b[0mX\u001b[0m\u001b[0;34m[\u001b[0m\u001b[0;34m:\u001b[0m\u001b[0;36m5\u001b[0m\u001b[0;34m]\u001b[0m\u001b[0;34m)\u001b[0m\u001b[0;34m\u001b[0m\u001b[0;34m\u001b[0m\u001b[0m\n\u001b[0m",
            "\u001b[0;31mIndexError\u001b[0m: too many indices for array: array is 0-dimensional, but 1 were indexed"
          ]
        }
      ]
    },
    {
      "cell_type": "code",
      "source": [
        "import numpy as np\n",
        "# Attempt to unwrap any embedded object\n",
        "if isinstance(X, np.ndarray) and X.dtype == 'object':\n",
        "    X = X.item()  # This extracts the embedded object if `X` is an array holding an object\n"
      ],
      "metadata": {
        "id": "DO1-cx0rZxTR"
      },
      "execution_count": null,
      "outputs": []
    },
    {
      "cell_type": "code",
      "source": [
        "print(X.shape)\n",
        "print(X[:5])  # This should work if `X` is now a 2D array\n"
      ],
      "metadata": {
        "colab": {
          "base_uri": "https://localhost:8080/"
        },
        "id": "CPVHJAztZ1k5",
        "outputId": "e5fed33a-f569-4f21-dfa7-4c7dacfa1214"
      },
      "execution_count": null,
      "outputs": [
        {
          "output_type": "stream",
          "name": "stdout",
          "text": [
            "(150, 154)\n",
            "  (0, 0)\t1.0\n",
            "  (0, 150)\t5.1\n",
            "  (0, 151)\t3.5\n",
            "  (0, 152)\t1.4\n",
            "  (0, 153)\t0.2\n",
            "  (1, 1)\t1.0\n",
            "  (1, 150)\t4.9\n",
            "  (1, 151)\t3.0\n",
            "  (1, 152)\t1.4\n",
            "  (1, 153)\t0.2\n",
            "  (2, 2)\t1.0\n",
            "  (2, 150)\t4.7\n",
            "  (2, 151)\t3.2\n",
            "  (2, 152)\t1.3\n",
            "  (2, 153)\t0.2\n",
            "  (3, 3)\t1.0\n",
            "  (3, 150)\t4.6\n",
            "  (3, 151)\t3.1\n",
            "  (3, 152)\t1.5\n",
            "  (3, 153)\t0.2\n",
            "  (4, 4)\t1.0\n",
            "  (4, 150)\t5.0\n",
            "  (4, 151)\t3.6\n",
            "  (4, 152)\t1.4\n",
            "  (4, 153)\t0.2\n"
          ]
        }
      ]
    },
    {
      "cell_type": "code",
      "source": [
        "from sklearn.model_selection import train_test_split\n",
        "X_train, X_test, y_train, y_test = train_test_split(X, y, test_size = 0.2, random_state = 1)"
      ],
      "metadata": {
        "id": "NROsLJCyI46h"
      },
      "execution_count": null,
      "outputs": []
    },
    {
      "cell_type": "code",
      "source": [
        "print(X_train)"
      ],
      "metadata": {
        "colab": {
          "base_uri": "https://localhost:8080/"
        },
        "id": "QhjMIWGYORyi",
        "outputId": "58aef4fb-ce36-4381-84cf-9c888a763e3f"
      },
      "execution_count": null,
      "outputs": [
        {
          "output_type": "stream",
          "name": "stdout",
          "text": [
            "  (0, 91)\t1.0\n",
            "  (0, 150)\t6.1\n",
            "  (0, 151)\t3.0\n",
            "  (0, 152)\t4.6\n",
            "  (0, 153)\t1.4\n",
            "  (1, 135)\t1.0\n",
            "  (1, 150)\t7.7\n",
            "  (1, 151)\t3.0\n",
            "  (1, 152)\t6.1\n",
            "  (1, 153)\t2.3\n",
            "  (2, 69)\t1.0\n",
            "  (2, 150)\t5.6\n",
            "  (2, 151)\t2.5\n",
            "  (2, 152)\t3.9\n",
            "  (2, 153)\t1.1\n",
            "  (3, 128)\t1.0\n",
            "  (3, 150)\t6.4\n",
            "  (3, 151)\t2.8\n",
            "  (3, 152)\t5.6\n",
            "  (3, 153)\t2.1\n",
            "  (4, 114)\t1.0\n",
            "  (4, 150)\t5.8\n",
            "  (4, 151)\t2.8\n",
            "  (4, 152)\t5.1\n",
            "  (4, 153)\t2.4\n",
            "  :\t:\n",
            "  (115, 133)\t1.0\n",
            "  (115, 150)\t6.3\n",
            "  (115, 151)\t2.8\n",
            "  (115, 152)\t5.1\n",
            "  (115, 153)\t1.5\n",
            "  (116, 137)\t1.0\n",
            "  (116, 150)\t6.4\n",
            "  (116, 151)\t3.1\n",
            "  (116, 152)\t5.5\n",
            "  (116, 153)\t1.8\n",
            "  (117, 72)\t1.0\n",
            "  (117, 150)\t6.3\n",
            "  (117, 151)\t2.5\n",
            "  (117, 152)\t4.9\n",
            "  (117, 153)\t1.5\n",
            "  (118, 140)\t1.0\n",
            "  (118, 150)\t6.7\n",
            "  (118, 151)\t3.1\n",
            "  (118, 152)\t5.6\n",
            "  (118, 153)\t2.4\n",
            "  (119, 37)\t1.0\n",
            "  (119, 150)\t4.9\n",
            "  (119, 151)\t3.1\n",
            "  (119, 152)\t1.5\n",
            "  (119, 153)\t0.1\n"
          ]
        }
      ]
    },
    {
      "cell_type": "code",
      "source": [
        "print(X_test)"
      ],
      "metadata": {
        "colab": {
          "base_uri": "https://localhost:8080/"
        },
        "id": "2bPS0fBMOUY4",
        "outputId": "52153c7d-d90d-4e5a-bc7d-fbc95e5fb813"
      },
      "execution_count": null,
      "outputs": [
        {
          "output_type": "stream",
          "name": "stdout",
          "text": [
            "  (0, 14)\t1.0\n",
            "  (0, 150)\t5.8\n",
            "  (0, 151)\t4.0\n",
            "  (0, 152)\t1.2\n",
            "  (0, 153)\t0.2\n",
            "  (1, 98)\t1.0\n",
            "  (1, 150)\t5.1\n",
            "  (1, 151)\t2.5\n",
            "  (1, 152)\t3.0\n",
            "  (1, 153)\t1.1\n",
            "  (2, 75)\t1.0\n",
            "  (2, 150)\t6.6\n",
            "  (2, 151)\t3.0\n",
            "  (2, 152)\t4.4\n",
            "  (2, 153)\t1.4\n",
            "  (3, 16)\t1.0\n",
            "  (3, 150)\t5.4\n",
            "  (3, 151)\t3.9\n",
            "  (3, 152)\t1.3\n",
            "  (3, 153)\t0.4\n",
            "  (4, 131)\t1.0\n",
            "  (4, 150)\t7.9\n",
            "  (4, 151)\t3.8\n",
            "  (4, 152)\t6.4\n",
            "  (4, 153)\t2.0\n",
            "  :\t:\n",
            "  (25, 99)\t1.0\n",
            "  (25, 150)\t5.7\n",
            "  (25, 151)\t2.8\n",
            "  (25, 152)\t4.1\n",
            "  (25, 153)\t1.3\n",
            "  (26, 33)\t1.0\n",
            "  (26, 150)\t5.5\n",
            "  (26, 151)\t4.2\n",
            "  (26, 152)\t1.4\n",
            "  (26, 153)\t0.2\n",
            "  (27, 19)\t1.0\n",
            "  (27, 150)\t5.1\n",
            "  (27, 151)\t3.8\n",
            "  (27, 152)\t1.5\n",
            "  (27, 153)\t0.3\n",
            "  (28, 73)\t1.0\n",
            "  (28, 150)\t6.1\n",
            "  (28, 151)\t2.8\n",
            "  (28, 152)\t4.7\n",
            "  (28, 153)\t1.2\n",
            "  (29, 146)\t1.0\n",
            "  (29, 150)\t6.3\n",
            "  (29, 151)\t2.5\n",
            "  (29, 152)\t5.0\n",
            "  (29, 153)\t1.9\n"
          ]
        }
      ]
    },
    {
      "cell_type": "code",
      "source": [
        "print(y_train)"
      ],
      "metadata": {
        "colab": {
          "base_uri": "https://localhost:8080/"
        },
        "id": "OT1vYySlOWIf",
        "outputId": "d821892b-7824-4528-ee9f-e122a5e37b58"
      },
      "execution_count": null,
      "outputs": [
        {
          "output_type": "stream",
          "name": "stdout",
          "text": [
            "[1 2 1 2 2 0 1 0 1 2 2 0 2 2 1 2 0 0 0 1 0 0 2 2 2 2 2 1 2 1 0 2 2 0 0 2 0\n",
            " 2 2 1 1 2 2 0 1 1 2 1 2 1 0 0 0 2 0 1 2 2 0 0 1 0 2 1 2 2 1 2 2 1 0 1 0 1\n",
            " 1 0 1 0 0 2 2 2 0 0 1 0 2 0 2 2 0 2 0 1 0 1 1 0 0 1 0 1 1 0 1 1 1 1 2 0 0\n",
            " 2 1 2 1 2 2 1 2 0]\n"
          ]
        }
      ]
    },
    {
      "cell_type": "code",
      "source": [
        "print(y_test)"
      ],
      "metadata": {
        "colab": {
          "base_uri": "https://localhost:8080/"
        },
        "id": "fFWoZW5JOYEE",
        "outputId": "36c41f1d-4d4f-4f1a-d487-60b48955804e"
      },
      "execution_count": null,
      "outputs": [
        {
          "output_type": "stream",
          "name": "stdout",
          "text": [
            "[0 1 1 0 2 1 2 0 0 2 1 0 2 1 1 0 1 1 0 0 1 1 1 0 2 1 0 0 1 2]\n"
          ]
        }
      ]
    },
    {
      "cell_type": "markdown",
      "source": [
        "**Featrue Scaling**"
      ],
      "metadata": {
        "id": "yXN-e9szDHBO"
      }
    },
    {
      "cell_type": "code",
      "source": [
        "X_train = X_train.toarray()\n",
        "X_test = X_test.toarray()\n",
        "X_train[:, 3:] = sc.fit_transform(X_train[:, 3:])\n",
        "X_test[:, 3:] = sc.transform(X_test[:, 3:])\n"
      ],
      "metadata": {
        "id": "wcbDN8U3h8EQ"
      },
      "execution_count": null,
      "outputs": []
    },
    {
      "cell_type": "code",
      "source": [
        "from sklearn.preprocessing import StandardScaler\n",
        "sc = StandardScaler()\n",
        "X_train[:, 3:] = sc.fit_transform(X_train[:, 3:])\n",
        "X_test[:, 3:] = sc.transform(X_test[:, 3:])"
      ],
      "metadata": {
        "id": "HPBfe68lI5ta"
      },
      "execution_count": null,
      "outputs": []
    },
    {
      "cell_type": "code",
      "source": [
        "print(X_train)"
      ],
      "metadata": {
        "colab": {
          "base_uri": "https://localhost:8080/"
        },
        "id": "iMTqmLxtiCWm",
        "outputId": "b2253654-4c18-47a4-ba06-9018b4248455"
      },
      "execution_count": null,
      "outputs": [
        {
          "output_type": "stream",
          "name": "stdout",
          "text": [
            "[[ 0.          0.          0.         ... -0.03612186  0.44748582\n",
            "   0.2345312 ]\n",
            " [ 0.          0.          0.         ... -0.03612186  1.29803965\n",
            "   1.39642889]\n",
            " [ 0.          0.          0.         ... -1.240184    0.0505607\n",
            "  -0.15276803]\n",
            " ...\n",
            " [ 0.          0.          0.         ... -1.240184    0.61759659\n",
            "   0.36363094]\n",
            " [ 0.          0.          0.         ...  0.20469056  1.01452171\n",
            "   1.52552864]\n",
            " [ 0.          0.          0.         ...  0.20469056 -1.31032543\n",
            "  -1.44376547]]\n"
          ]
        }
      ]
    },
    {
      "cell_type": "code",
      "source": [
        "print(X_test)"
      ],
      "metadata": {
        "id": "HIRzRYzsiF8s",
        "outputId": "cd868071-9ba3-4dcb-b246-2a93c2a7cfd2",
        "colab": {
          "base_uri": "https://localhost:8080/"
        }
      },
      "execution_count": null,
      "outputs": [
        {
          "output_type": "stream",
          "name": "stdout",
          "text": [
            "[[ 0.          0.          0.         ...  2.3720024  -1.48043619\n",
            "  -1.31466572]\n",
            " [ 0.          0.          0.         ... -1.240184   -0.4597716\n",
            "  -0.15276803]\n",
            " [ 0.          0.          0.         ... -0.03612186  0.33407864\n",
            "   0.2345312 ]\n",
            " ...\n",
            " [ 0.          0.          0.         ...  1.89037755 -1.31032543\n",
            "  -1.18556598]\n",
            " [ 0.          0.          0.         ... -0.51774672  0.50418941\n",
            "  -0.02366829]\n",
            " [ 0.          0.          0.         ... -1.240184    0.67430017\n",
            "   0.88002992]]\n"
          ]
        }
      ]
    }
  ]
}