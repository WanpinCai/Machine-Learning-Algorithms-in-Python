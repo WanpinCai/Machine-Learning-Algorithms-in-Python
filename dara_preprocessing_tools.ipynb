{
  "nbformat": 4,
  "nbformat_minor": 0,
  "metadata": {
    "colab": {
      "provenance": [],
      "authorship_tag": "ABX9TyOi0CeyOVSAbO7wZS5heGea",
      "include_colab_link": true
    },
    "kernelspec": {
      "name": "python3",
      "display_name": "Python 3"
    },
    "language_info": {
      "name": "python"
    }
  },
  "cells": [
    {
      "cell_type": "markdown",
      "metadata": {
        "id": "view-in-github",
        "colab_type": "text"
      },
      "source": [
        "<a href=\"https://colab.research.google.com/github/WanpinCai/Machine-Learning-Algorithms-in-Python/blob/main/dara_preprocessing_tools.ipynb\" target=\"_parent\"><img src=\"https://colab.research.google.com/assets/colab-badge.svg\" alt=\"Open In Colab\"/></a>"
      ]
    },
    {
      "cell_type": "markdown",
      "source": [
        "**Data Preprocessing Tools**"
      ],
      "metadata": {
        "id": "3dmEMNXYCmuU"
      }
    },
    {
      "cell_type": "markdown",
      "source": [
        "**Importing the libraries**"
      ],
      "metadata": {
        "id": "FcvAwAC0Ct3t"
      }
    },
    {
      "cell_type": "code",
      "source": [
        "import numpy as np\n",
        "import matplotlib.pyplot as plt\n",
        "import pandas as pd"
      ],
      "metadata": {
        "id": "ql_5ZiRdDTrX"
      },
      "execution_count": null,
      "outputs": []
    },
    {
      "cell_type": "markdown",
      "source": [
        "**Importing the dataset**"
      ],
      "metadata": {
        "id": "Mvqu3KzICyF2"
      }
    },
    {
      "cell_type": "code",
      "source": [
        "from re import X\n",
        "dataset = pd.read_csv('Iris.csv')\n",
        "X = dataset.iloc[:, :-1].values\n",
        "y = dataset.iloc[:, -1].values"
      ],
      "metadata": {
        "id": "G-q4KX2tDdxT"
      },
      "execution_count": null,
      "outputs": []
    },
    {
      "cell_type": "code",
      "source": [
        "print(type(X), type(y))"
      ],
      "metadata": {
        "colab": {
          "base_uri": "https://localhost:8080/"
        },
        "id": "VQ_66K-CZDvG",
        "outputId": "dc1c95d9-6174-4ca9-bf74-57f531f37356"
      },
      "execution_count": null,
      "outputs": [
        {
          "output_type": "stream",
          "name": "stdout",
          "text": [
            "<class 'numpy.ndarray'> <class 'numpy.ndarray'>\n"
          ]
        }
      ]
    },
    {
      "cell_type": "code",
      "source": [
        "print(X.shape, y.shape)"
      ],
      "metadata": {
        "colab": {
          "base_uri": "https://localhost:8080/"
        },
        "id": "tjawiglTZTQ4",
        "outputId": "3db47e0d-0827-4cd1-8c83-828e96246b73"
      },
      "execution_count": null,
      "outputs": [
        {
          "output_type": "stream",
          "name": "stdout",
          "text": [
            "(150, 5) (150,)\n"
          ]
        }
      ]
    },
    {
      "cell_type": "markdown",
      "source": [
        "**Taking care of missing data**"
      ],
      "metadata": {
        "id": "C8SdnVZDC1jC"
      }
    },
    {
      "cell_type": "code",
      "source": [
        "from sklearn.impute import SimpleImputer\n",
        "imputer = SimpleImputer(missing_values=np.nan, strategy='mean')\n",
        "imputer.fit(X[:, 1:4])\n",
        "X[:, 1:4] = imputer.transform(X[:, 1:4])"
      ],
      "metadata": {
        "id": "JlRQotl-EIze"
      },
      "execution_count": null,
      "outputs": []
    },
    {
      "cell_type": "markdown",
      "source": [
        "**Encoding categorical data**"
      ],
      "metadata": {
        "id": "Os7iRsQyC55Q"
      }
    },
    {
      "cell_type": "markdown",
      "source": [
        "**Encoding the Independent variable**"
      ],
      "metadata": {
        "id": "luDHK9t7C9eg"
      }
    },
    {
      "cell_type": "code",
      "source": [
        "from sklearn.compose import ColumnTransformer\n",
        "from sklearn.preprocessing import OneHotEncoder\n",
        "ct = ColumnTransformer(transformers=[('encoder', OneHotEncoder(), [0])], remainder='passthrough')\n",
        "X = np.array(ct.fit_transform(X))"
      ],
      "metadata": {
        "id": "AqSr8dsjI4BR"
      },
      "execution_count": null,
      "outputs": []
    },
    {
      "cell_type": "markdown",
      "source": [
        "**Encoding the Dependent Variable**"
      ],
      "metadata": {
        "id": "yP20jB2sDCYY"
      }
    },
    {
      "cell_type": "code",
      "source": [
        "from sklearn.preprocessing import LabelEncoder\n",
        "le = LabelEncoder()\n",
        "y = le.fit_transform(y)"
      ],
      "metadata": {
        "id": "zPOaiE5sI4eZ"
      },
      "execution_count": null,
      "outputs": []
    },
    {
      "cell_type": "code",
      "source": [
        "print(y)"
      ],
      "metadata": {
        "colab": {
          "base_uri": "https://localhost:8080/"
        },
        "id": "XTyEmVWfLfFe",
        "outputId": "a8a4776e-f0cc-4d19-dbbe-3d2123a48396"
      },
      "execution_count": null,
      "outputs": [
        {
          "output_type": "stream",
          "name": "stdout",
          "text": [
            "[0 0 0 0 0 0 0 0 0 0 0 0 0 0 0 0 0 0 0 0 0 0 0 0 0 0 0 0 0 0 0 0 0 0 0 0 0\n",
            " 0 0 0 0 0 0 0 0 0 0 0 0 0 1 1 1 1 1 1 1 1 1 1 1 1 1 1 1 1 1 1 1 1 1 1 1 1\n",
            " 1 1 1 1 1 1 1 1 1 1 1 1 1 1 1 1 1 1 1 1 1 1 1 1 1 1 2 2 2 2 2 2 2 2 2 2 2\n",
            " 2 2 2 2 2 2 2 2 2 2 2 2 2 2 2 2 2 2 2 2 2 2 2 2 2 2 2 2 2 2 2 2 2 2 2 2 2\n",
            " 2 2]\n"
          ]
        }
      ]
    },
    {
      "cell_type": "markdown",
      "source": [
        "**Splitting the dataset into the Training set and Test set**"
      ],
      "metadata": {
        "id": "19faHNkoDKCV"
      }
    },
    {
      "cell_type": "code",
      "source": [
        "print(X[:5])"
      ],
      "metadata": {
        "colab": {
          "base_uri": "https://localhost:8080/",
          "height": 144
        },
        "id": "kZfOBiefZj0y",
        "outputId": "9c31b64a-536a-4c7a-aee8-aea1873cac1b"
      },
      "execution_count": null,
      "outputs": [
        {
          "output_type": "error",
          "ename": "IndexError",
          "evalue": "too many indices for array: array is 0-dimensional, but 1 were indexed",
          "traceback": [
            "\u001b[0;31m---------------------------------------------------------------------------\u001b[0m",
            "\u001b[0;31mIndexError\u001b[0m                                Traceback (most recent call last)",
            "\u001b[0;32m<ipython-input-33-f3111c92c0b2>\u001b[0m in \u001b[0;36m<cell line: 1>\u001b[0;34m()\u001b[0m\n\u001b[0;32m----> 1\u001b[0;31m \u001b[0mprint\u001b[0m\u001b[0;34m(\u001b[0m\u001b[0mX\u001b[0m\u001b[0;34m[\u001b[0m\u001b[0;34m:\u001b[0m\u001b[0;36m5\u001b[0m\u001b[0;34m]\u001b[0m\u001b[0;34m)\u001b[0m\u001b[0;34m\u001b[0m\u001b[0;34m\u001b[0m\u001b[0m\n\u001b[0m",
            "\u001b[0;31mIndexError\u001b[0m: too many indices for array: array is 0-dimensional, but 1 were indexed"
          ]
        }
      ]
    },
    {
      "cell_type": "code",
      "source": [
        "import numpy as np\n",
        "# Attempt to unwrap any embedded object\n",
        "if isinstance(X, np.ndarray) and X.dtype == 'object':\n",
        "    X = X.item()  # This extracts the embedded object if `X` is an array holding an object\n"
      ],
      "metadata": {
        "id": "DO1-cx0rZxTR"
      },
      "execution_count": null,
      "outputs": []
    },
    {
      "cell_type": "code",
      "source": [
        "print(X.shape)\n",
        "print(X[:5])  # This should work if `X` is now a 2D array\n"
      ],
      "metadata": {
        "colab": {
          "base_uri": "https://localhost:8080/"
        },
        "id": "CPVHJAztZ1k5",
        "outputId": "e5fed33a-f569-4f21-dfa7-4c7dacfa1214"
      },
      "execution_count": null,
      "outputs": [
        {
          "output_type": "stream",
          "name": "stdout",
          "text": [
            "(150, 154)\n",
            "  (0, 0)\t1.0\n",
            "  (0, 150)\t5.1\n",
            "  (0, 151)\t3.5\n",
            "  (0, 152)\t1.4\n",
            "  (0, 153)\t0.2\n",
            "  (1, 1)\t1.0\n",
            "  (1, 150)\t4.9\n",
            "  (1, 151)\t3.0\n",
            "  (1, 152)\t1.4\n",
            "  (1, 153)\t0.2\n",
            "  (2, 2)\t1.0\n",
            "  (2, 150)\t4.7\n",
            "  (2, 151)\t3.2\n",
            "  (2, 152)\t1.3\n",
            "  (2, 153)\t0.2\n",
            "  (3, 3)\t1.0\n",
            "  (3, 150)\t4.6\n",
            "  (3, 151)\t3.1\n",
            "  (3, 152)\t1.5\n",
            "  (3, 153)\t0.2\n",
            "  (4, 4)\t1.0\n",
            "  (4, 150)\t5.0\n",
            "  (4, 151)\t3.6\n",
            "  (4, 152)\t1.4\n",
            "  (4, 153)\t0.2\n"
          ]
        }
      ]
    },
    {
      "cell_type": "code",
      "source": [
        "from sklearn.model_selection import train_test_split\n",
        "X_train, X_test, y_train, y_test = train_test_split(X, y, test_size = 0.2, random_state = 1)"
      ],
      "metadata": {
        "id": "NROsLJCyI46h"
      },
      "execution_count": null,
      "outputs": []
    },
    {
      "cell_type": "code",
      "source": [
        "print(y_train)"
      ],
      "metadata": {
        "colab": {
          "base_uri": "https://localhost:8080/"
        },
        "id": "OT1vYySlOWIf",
        "outputId": "d821892b-7824-4528-ee9f-e122a5e37b58"
      },
      "execution_count": null,
      "outputs": [
        {
          "output_type": "stream",
          "name": "stdout",
          "text": [
            "[1 2 1 2 2 0 1 0 1 2 2 0 2 2 1 2 0 0 0 1 0 0 2 2 2 2 2 1 2 1 0 2 2 0 0 2 0\n",
            " 2 2 1 1 2 2 0 1 1 2 1 2 1 0 0 0 2 0 1 2 2 0 0 1 0 2 1 2 2 1 2 2 1 0 1 0 1\n",
            " 1 0 1 0 0 2 2 2 0 0 1 0 2 0 2 2 0 2 0 1 0 1 1 0 0 1 0 1 1 0 1 1 1 1 2 0 0\n",
            " 2 1 2 1 2 2 1 2 0]\n"
          ]
        }
      ]
    },
    {
      "cell_type": "code",
      "source": [
        "print(y_test)"
      ],
      "metadata": {
        "colab": {
          "base_uri": "https://localhost:8080/"
        },
        "id": "fFWoZW5JOYEE",
        "outputId": "36c41f1d-4d4f-4f1a-d487-60b48955804e"
      },
      "execution_count": null,
      "outputs": [
        {
          "output_type": "stream",
          "name": "stdout",
          "text": [
            "[0 1 1 0 2 1 2 0 0 2 1 0 2 1 1 0 1 1 0 0 1 1 1 0 2 1 0 0 1 2]\n"
          ]
        }
      ]
    },
    {
      "cell_type": "markdown",
      "source": [
        "**Featrue Scaling**"
      ],
      "metadata": {
        "id": "yXN-e9szDHBO"
      }
    },
    {
      "cell_type": "code",
      "source": [
        "X_train = X_train.toarray()\n",
        "X_test = X_test.toarray()\n",
        "X_train[:, 3:] = sc.fit_transform(X_train[:, 3:])\n",
        "X_test[:, 3:] = sc.transform(X_test[:, 3:])\n"
      ],
      "metadata": {
        "id": "wcbDN8U3h8EQ"
      },
      "execution_count": null,
      "outputs": []
    },
    {
      "cell_type": "code",
      "source": [
        "from sklearn.preprocessing import StandardScaler\n",
        "sc = StandardScaler()\n",
        "X_train[:, 3:] = sc.fit_transform(X_train[:, 3:])\n",
        "X_test[:, 3:] = sc.transform(X_test[:, 3:])"
      ],
      "metadata": {
        "id": "HPBfe68lI5ta"
      },
      "execution_count": null,
      "outputs": []
    },
    {
      "cell_type": "code",
      "source": [
        "print(X_train)"
      ],
      "metadata": {
        "colab": {
          "base_uri": "https://localhost:8080/"
        },
        "id": "iMTqmLxtiCWm",
        "outputId": "b2253654-4c18-47a4-ba06-9018b4248455"
      },
      "execution_count": null,
      "outputs": [
        {
          "output_type": "stream",
          "name": "stdout",
          "text": [
            "[[ 0.          0.          0.         ... -0.03612186  0.44748582\n",
            "   0.2345312 ]\n",
            " [ 0.          0.          0.         ... -0.03612186  1.29803965\n",
            "   1.39642889]\n",
            " [ 0.          0.          0.         ... -1.240184    0.0505607\n",
            "  -0.15276803]\n",
            " ...\n",
            " [ 0.          0.          0.         ... -1.240184    0.61759659\n",
            "   0.36363094]\n",
            " [ 0.          0.          0.         ...  0.20469056  1.01452171\n",
            "   1.52552864]\n",
            " [ 0.          0.          0.         ...  0.20469056 -1.31032543\n",
            "  -1.44376547]]\n"
          ]
        }
      ]
    },
    {
      "cell_type": "code",
      "source": [
        "print(X_test)"
      ],
      "metadata": {
        "id": "HIRzRYzsiF8s",
        "outputId": "cd868071-9ba3-4dcb-b246-2a93c2a7cfd2",
        "colab": {
          "base_uri": "https://localhost:8080/"
        }
      },
      "execution_count": null,
      "outputs": [
        {
          "output_type": "stream",
          "name": "stdout",
          "text": [
            "[[ 0.          0.          0.         ...  2.3720024  -1.48043619\n",
            "  -1.31466572]\n",
            " [ 0.          0.          0.         ... -1.240184   -0.4597716\n",
            "  -0.15276803]\n",
            " [ 0.          0.          0.         ... -0.03612186  0.33407864\n",
            "   0.2345312 ]\n",
            " ...\n",
            " [ 0.          0.          0.         ...  1.89037755 -1.31032543\n",
            "  -1.18556598]\n",
            " [ 0.          0.          0.         ... -0.51774672  0.50418941\n",
            "  -0.02366829]\n",
            " [ 0.          0.          0.         ... -1.240184    0.67430017\n",
            "   0.88002992]]\n"
          ]
        }
      ]
    }
  ]
}