{
 "cells": [
  {
   "cell_type": "markdown",
   "id": "deb0e217",
   "metadata": {
    "papermill": {
     "duration": 0.010666,
     "end_time": "2024-10-27T12:16:30.465560",
     "exception": false,
     "start_time": "2024-10-27T12:16:30.454894",
     "status": "completed"
    },
    "tags": []
   },
   "source": [
    "**This notebook is an exercise in the [Data Cleaning](https://www.kaggle.com/learn/data-cleaning) course.  You can reference the tutorial at [this link](https://www.kaggle.com/alexisbcook/handling-missing-values).**\n",
    "\n",
    "---\n"
   ]
  },
  {
   "cell_type": "markdown",
   "id": "5b6a952f",
   "metadata": {
    "papermill": {
     "duration": 0.007873,
     "end_time": "2024-10-27T12:16:30.482126",
     "exception": false,
     "start_time": "2024-10-27T12:16:30.474253",
     "status": "completed"
    },
    "tags": []
   },
   "source": [
    "In this exercise, you'll apply what you learned in the **Handling missing values** tutorial.\n",
    "\n",
    "# Setup\n",
    "\n",
    "The questions below will give you feedback on your work. Run the following cell to set up the feedback system."
   ]
  },
  {
   "cell_type": "code",
   "execution_count": 1,
   "id": "efcf879e",
   "metadata": {
    "execution": {
     "iopub.execute_input": "2024-10-27T12:16:30.500827Z",
     "iopub.status.busy": "2024-10-27T12:16:30.500250Z",
     "iopub.status.idle": "2024-10-27T12:16:39.079865Z",
     "shell.execute_reply": "2024-10-27T12:16:39.078402Z"
    },
    "papermill": {
     "duration": 8.592692,
     "end_time": "2024-10-27T12:16:39.083003",
     "exception": false,
     "start_time": "2024-10-27T12:16:30.490311",
     "status": "completed"
    },
    "tags": []
   },
   "outputs": [
    {
     "name": "stderr",
     "output_type": "stream",
     "text": [
      "/opt/conda/lib/python3.10/site-packages/learntools/data_cleaning/ex1.py:6: DtypeWarning: Columns (22,32) have mixed types. Specify dtype option on import or set low_memory=False.\n",
      "  sf_permits = pd.read_csv(\"../input/building-permit-applications-data/Building_Permits.csv\")\n",
      "/tmp/ipykernel_17/3419995878.py:3: DeprecationWarning: `product` is deprecated as of NumPy 1.25.0, and will be removed in NumPy 2.0. Please use `prod` instead.\n",
      "  from learntools.data_cleaning.ex1 import *\n",
      "/opt/conda/lib/python3.10/site-packages/learntools/data_cleaning/ex1.py:69: FutureWarning: DataFrame.fillna with 'method' is deprecated and will raise in a future version. Use obj.ffill() or obj.bfill() instead.\n",
      "  _expected = sf_permits.fillna(method='bfill', axis=0).fillna(0)\n"
     ]
    },
    {
     "name": "stdout",
     "output_type": "stream",
     "text": [
      "Setup Complete\n"
     ]
    }
   ],
   "source": [
    "from learntools.core import binder\n",
    "binder.bind(globals())\n",
    "from learntools.data_cleaning.ex1 import *\n",
    "print(\"Setup Complete\")"
   ]
  },
  {
   "cell_type": "markdown",
   "id": "d44d111c",
   "metadata": {
    "papermill": {
     "duration": 0.008383,
     "end_time": "2024-10-27T12:16:39.100202",
     "exception": false,
     "start_time": "2024-10-27T12:16:39.091819",
     "status": "completed"
    },
    "tags": []
   },
   "source": [
    "# 1) Take a first look at the data\n",
    "\n",
    "Run the next code cell to load in the libraries and dataset you'll use to complete the exercise."
   ]
  },
  {
   "cell_type": "code",
   "execution_count": 2,
   "id": "6566a5ea",
   "metadata": {
    "execution": {
     "iopub.execute_input": "2024-10-27T12:16:39.119708Z",
     "iopub.status.busy": "2024-10-27T12:16:39.119202Z",
     "iopub.status.idle": "2024-10-27T12:16:41.305832Z",
     "shell.execute_reply": "2024-10-27T12:16:41.304672Z"
    },
    "papermill": {
     "duration": 2.199572,
     "end_time": "2024-10-27T12:16:41.308639",
     "exception": false,
     "start_time": "2024-10-27T12:16:39.109067",
     "status": "completed"
    },
    "tags": []
   },
   "outputs": [
    {
     "name": "stderr",
     "output_type": "stream",
     "text": [
      "/tmp/ipykernel_17/3534875831.py:6: DtypeWarning: Columns (22,32) have mixed types. Specify dtype option on import or set low_memory=False.\n",
      "  sf_permits = pd.read_csv(\"../input/building-permit-applications-data/Building_Permits.csv\")\n"
     ]
    }
   ],
   "source": [
    "# modules we'll use\n",
    "import pandas as pd\n",
    "import numpy as np\n",
    "\n",
    "# read in all our data\n",
    "sf_permits = pd.read_csv(\"../input/building-permit-applications-data/Building_Permits.csv\")\n",
    "\n",
    "# set seed for reproducibility\n",
    "np.random.seed(0) "
   ]
  },
  {
   "cell_type": "markdown",
   "id": "574bdb70",
   "metadata": {
    "papermill": {
     "duration": 0.009005,
     "end_time": "2024-10-27T12:16:41.327927",
     "exception": false,
     "start_time": "2024-10-27T12:16:41.318922",
     "status": "completed"
    },
    "tags": []
   },
   "source": [
    "Use the code cell below to print the first five rows of the `sf_permits` DataFrame."
   ]
  },
  {
   "cell_type": "code",
   "execution_count": 3,
   "id": "bc1dbabd",
   "metadata": {
    "execution": {
     "iopub.execute_input": "2024-10-27T12:16:41.347885Z",
     "iopub.status.busy": "2024-10-27T12:16:41.347436Z",
     "iopub.status.idle": "2024-10-27T12:16:41.370628Z",
     "shell.execute_reply": "2024-10-27T12:16:41.369209Z"
    },
    "papermill": {
     "duration": 0.036786,
     "end_time": "2024-10-27T12:16:41.373621",
     "exception": false,
     "start_time": "2024-10-27T12:16:41.336835",
     "status": "completed"
    },
    "tags": []
   },
   "outputs": [
    {
     "name": "stdout",
     "output_type": "stream",
     "text": [
      "  Permit Number  Permit Type            Permit Type Definition  \\\n",
      "0  201505065519            4                      sign - erect   \n",
      "1  201604195146            4                      sign - erect   \n",
      "2  201605278609            3  additions alterations or repairs   \n",
      "3  201611072166            8            otc alterations permit   \n",
      "4  201611283529            6                       demolitions   \n",
      "\n",
      "  Permit Creation Date Block  Lot  Street Number Street Number Suffix  \\\n",
      "0           05/06/2015  0326  023            140                  NaN   \n",
      "1           04/19/2016  0306  007            440                  NaN   \n",
      "2           05/27/2016  0595  203           1647                  NaN   \n",
      "3           11/07/2016  0156  011           1230                  NaN   \n",
      "4           11/28/2016  0342  001            950                  NaN   \n",
      "\n",
      "  Street Name Street Suffix  ...  Existing Construction Type  \\\n",
      "0       Ellis            St  ...                         3.0   \n",
      "1       Geary            St  ...                         3.0   \n",
      "2     Pacific            Av  ...                         1.0   \n",
      "3     Pacific            Av  ...                         5.0   \n",
      "4      Market            St  ...                         3.0   \n",
      "\n",
      "  Existing Construction Type Description Proposed Construction Type  \\\n",
      "0                          constr type 3                        NaN   \n",
      "1                          constr type 3                        NaN   \n",
      "2                          constr type 1                        1.0   \n",
      "3                         wood frame (5)                        5.0   \n",
      "4                          constr type 3                        NaN   \n",
      "\n",
      "  Proposed Construction Type Description Site Permit Supervisor District  \\\n",
      "0                                    NaN         NaN                 3.0   \n",
      "1                                    NaN         NaN                 3.0   \n",
      "2                          constr type 1         NaN                 3.0   \n",
      "3                         wood frame (5)         NaN                 3.0   \n",
      "4                                    NaN         NaN                 6.0   \n",
      "\n",
      "  Neighborhoods - Analysis Boundaries  Zipcode  \\\n",
      "0                          Tenderloin  94102.0   \n",
      "1                          Tenderloin  94102.0   \n",
      "2                        Russian Hill  94109.0   \n",
      "3                            Nob Hill  94109.0   \n",
      "4                          Tenderloin  94102.0   \n",
      "\n",
      "                                    Location      Record ID  \n",
      "0  (37.785719256680785, -122.40852313194863)  1380611233945  \n",
      "1   (37.78733980600732, -122.41063199757738)  1420164406718  \n",
      "2    (37.7946573324287, -122.42232562979227)  1424856504716  \n",
      "3   (37.79595867909168, -122.41557405519474)  1443574295566  \n",
      "4   (37.78315261897309, -122.40950883997789)   144548169992  \n",
      "\n",
      "[5 rows x 43 columns]\n"
     ]
    }
   ],
   "source": [
    "# TODO: Your code here!\n",
    "print(sf_permits.head())"
   ]
  },
  {
   "cell_type": "markdown",
   "id": "adb3459e",
   "metadata": {
    "papermill": {
     "duration": 0.008708,
     "end_time": "2024-10-27T12:16:41.391476",
     "exception": false,
     "start_time": "2024-10-27T12:16:41.382768",
     "status": "completed"
    },
    "tags": []
   },
   "source": [
    "Does the dataset have any missing values?  Once you have an answer, run the code cell below to get credit for your work."
   ]
  },
  {
   "cell_type": "code",
   "execution_count": 4,
   "id": "0501f29f",
   "metadata": {
    "execution": {
     "iopub.execute_input": "2024-10-27T12:16:41.412727Z",
     "iopub.status.busy": "2024-10-27T12:16:41.411523Z",
     "iopub.status.idle": "2024-10-27T12:16:41.422857Z",
     "shell.execute_reply": "2024-10-27T12:16:41.421593Z"
    },
    "papermill": {
     "duration": 0.024706,
     "end_time": "2024-10-27T12:16:41.425304",
     "exception": false,
     "start_time": "2024-10-27T12:16:41.400598",
     "status": "completed"
    },
    "tags": []
   },
   "outputs": [
    {
     "data": {
      "application/javascript": [
       "parent.postMessage({\"jupyterEvent\": \"custom.exercise_interaction\", \"data\": {\"outcomeType\": 1, \"valueTowardsCompletion\": 0.16666666666666666, \"interactionType\": 1, \"questionType\": 4, \"questionId\": \"1_TakeFirstLook\", \"learnToolsVersion\": \"0.3.4\", \"failureMessage\": \"\", \"exceptionClass\": \"\", \"trace\": \"\"}}, \"*\")"
      ],
      "text/plain": [
       "<IPython.core.display.Javascript object>"
      ]
     },
     "metadata": {},
     "output_type": "display_data"
    },
    {
     "data": {
      "text/markdown": [
       "<span style=\"color:#33cc33\">Correct:</span> \n",
       "\n",
       "The first five rows of the data does show that several columns have missing values.  You can see this in the \"Street Number Suffix\", \"Proposed Construction Type\" and \"Site Permit\" columns, among others."
      ],
      "text/plain": [
       "Correct: \n",
       "\n",
       "The first five rows of the data does show that several columns have missing values.  You can see this in the \"Street Number Suffix\", \"Proposed Construction Type\" and \"Site Permit\" columns, among others."
      ]
     },
     "metadata": {},
     "output_type": "display_data"
    }
   ],
   "source": [
    "# Check your answer (Run this code cell to receive credit!)\n",
    "q1.check()"
   ]
  },
  {
   "cell_type": "code",
   "execution_count": 5,
   "id": "7ac032c3",
   "metadata": {
    "execution": {
     "iopub.execute_input": "2024-10-27T12:16:41.446382Z",
     "iopub.status.busy": "2024-10-27T12:16:41.445391Z",
     "iopub.status.idle": "2024-10-27T12:16:41.450505Z",
     "shell.execute_reply": "2024-10-27T12:16:41.449310Z"
    },
    "papermill": {
     "duration": 0.018423,
     "end_time": "2024-10-27T12:16:41.453155",
     "exception": false,
     "start_time": "2024-10-27T12:16:41.434732",
     "status": "completed"
    },
    "tags": []
   },
   "outputs": [],
   "source": [
    "# Line below will give you a hint\n",
    "#q1.hint()"
   ]
  },
  {
   "cell_type": "markdown",
   "id": "1a9b5910",
   "metadata": {
    "papermill": {
     "duration": 0.00907,
     "end_time": "2024-10-27T12:16:41.472113",
     "exception": false,
     "start_time": "2024-10-27T12:16:41.463043",
     "status": "completed"
    },
    "tags": []
   },
   "source": [
    "# 2) How many missing data points do we have?\n",
    "\n",
    "What percentage of the values in the dataset are missing?  Your answer should be a number between 0 and 100.  (If 1/4 of the values in the dataset are missing, the answer is 25.)"
   ]
  },
  {
   "cell_type": "code",
   "execution_count": 6,
   "id": "6f110163",
   "metadata": {
    "execution": {
     "iopub.execute_input": "2024-10-27T12:16:41.492830Z",
     "iopub.status.busy": "2024-10-27T12:16:41.492426Z",
     "iopub.status.idle": "2024-10-27T12:16:41.998474Z",
     "shell.execute_reply": "2024-10-27T12:16:41.997082Z"
    },
    "papermill": {
     "duration": 0.519306,
     "end_time": "2024-10-27T12:16:42.001022",
     "exception": false,
     "start_time": "2024-10-27T12:16:41.481716",
     "status": "completed"
    },
    "tags": []
   },
   "outputs": [
    {
     "name": "stdout",
     "output_type": "stream",
     "text": [
      "26.26002315058403\n"
     ]
    },
    {
     "data": {
      "application/javascript": [
       "parent.postMessage({\"jupyterEvent\": \"custom.exercise_interaction\", \"data\": {\"outcomeType\": 1, \"valueTowardsCompletion\": 0.16666666666666666, \"interactionType\": 1, \"questionType\": 1, \"questionId\": \"2_PercentMissingValues\", \"learnToolsVersion\": \"0.3.4\", \"failureMessage\": \"\", \"exceptionClass\": \"\", \"trace\": \"\"}}, \"*\")"
      ],
      "text/plain": [
       "<IPython.core.display.Javascript object>"
      ]
     },
     "metadata": {},
     "output_type": "display_data"
    },
    {
     "data": {
      "text/markdown": [
       "<span style=\"color:#33cc33\">Correct</span>"
      ],
      "text/plain": [
       "Correct"
      ]
     },
     "metadata": {},
     "output_type": "display_data"
    }
   ],
   "source": [
    "# TODO: Your code here!\n",
    "total_cells = np.product(sf_permits.shape)\n",
    "total_missing = sf_permits.isnull().sum().sum()\n",
    "percent_missing = (total_missing/total_cells)*100\n",
    "print(percent_missing)\n",
    "\n",
    "# Check your answer\n",
    "q2.check()"
   ]
  },
  {
   "cell_type": "code",
   "execution_count": 7,
   "id": "516e7593",
   "metadata": {
    "execution": {
     "iopub.execute_input": "2024-10-27T12:16:42.023049Z",
     "iopub.status.busy": "2024-10-27T12:16:42.022637Z",
     "iopub.status.idle": "2024-10-27T12:16:42.028033Z",
     "shell.execute_reply": "2024-10-27T12:16:42.026815Z"
    },
    "papermill": {
     "duration": 0.019324,
     "end_time": "2024-10-27T12:16:42.030558",
     "exception": false,
     "start_time": "2024-10-27T12:16:42.011234",
     "status": "completed"
    },
    "tags": []
   },
   "outputs": [],
   "source": [
    "# Lines below will give you a hint or solution code\n",
    "#q2.hint()\n",
    "#q2.solution()"
   ]
  },
  {
   "cell_type": "markdown",
   "id": "95ad4173",
   "metadata": {
    "papermill": {
     "duration": 0.00965,
     "end_time": "2024-10-27T12:16:42.050348",
     "exception": false,
     "start_time": "2024-10-27T12:16:42.040698",
     "status": "completed"
    },
    "tags": []
   },
   "source": [
    "# 3) Figure out why the data is missing\n",
    "\n",
    "Look at the columns **\"Street Number Suffix\"** and **\"Zipcode\"** from the [San Francisco Building Permits dataset](https://www.kaggle.com/aparnashastry/building-permit-applications-data). Both of these contain missing values. \n",
    "- Which, if either, are missing because they don't exist? \n",
    "- Which, if either, are missing because they weren't recorded?  \n",
    "\n",
    "Once you have an answer, run the code cell below."
   ]
  },
  {
   "cell_type": "code",
   "execution_count": 8,
   "id": "f72cc33c",
   "metadata": {
    "execution": {
     "iopub.execute_input": "2024-10-27T12:16:42.071849Z",
     "iopub.status.busy": "2024-10-27T12:16:42.071402Z",
     "iopub.status.idle": "2024-10-27T12:16:42.093878Z",
     "shell.execute_reply": "2024-10-27T12:16:42.092692Z"
    },
    "papermill": {
     "duration": 0.036263,
     "end_time": "2024-10-27T12:16:42.096440",
     "exception": false,
     "start_time": "2024-10-27T12:16:42.060177",
     "status": "completed"
    },
    "tags": []
   },
   "outputs": [
    {
     "name": "stdout",
     "output_type": "stream",
     "text": [
      "Missing 'Street Number Suffix': 196684\n",
      "Missing 'Zipcode':1716\n"
     ]
    },
    {
     "data": {
      "application/javascript": [
       "parent.postMessage({\"jupyterEvent\": \"custom.exercise_interaction\", \"data\": {\"outcomeType\": 1, \"valueTowardsCompletion\": 0.16666666666666666, \"interactionType\": 1, \"questionType\": 4, \"questionId\": \"3_WhyDataMissing\", \"learnToolsVersion\": \"0.3.4\", \"failureMessage\": \"\", \"exceptionClass\": \"\", \"trace\": \"\"}}, \"*\")"
      ],
      "text/plain": [
       "<IPython.core.display.Javascript object>"
      ]
     },
     "metadata": {},
     "output_type": "display_data"
    },
    {
     "data": {
      "text/markdown": [
       "<span style=\"color:#33cc33\">Correct:</span> \n",
       "\n",
       "If a value in the \"Street Number Suffix\" column is missing, it is likely because it does not exist. If a value in the \"Zipcode\" column is missing, it was not recorded."
      ],
      "text/plain": [
       "Correct: \n",
       "\n",
       "If a value in the \"Street Number Suffix\" column is missing, it is likely because it does not exist. If a value in the \"Zipcode\" column is missing, it was not recorded."
      ]
     },
     "metadata": {},
     "output_type": "display_data"
    }
   ],
   "source": [
    "# Check your answer (Run this code cell to receive credit!)\n",
    "street_suffix_missing = sf_permits['Street Number Suffix'].isnull().sum()\n",
    "zipcode_missing = sf_permits['Zipcode'].isnull().sum()\n",
    "\n",
    "print(f\"Missing 'Street Number Suffix': {street_suffix_missing}\")\n",
    "print(f\"Missing 'Zipcode':{zipcode_missing}\")\n",
    "\n",
    "q3.check()"
   ]
  },
  {
   "cell_type": "code",
   "execution_count": 9,
   "id": "65d94266",
   "metadata": {
    "execution": {
     "iopub.execute_input": "2024-10-27T12:16:42.119261Z",
     "iopub.status.busy": "2024-10-27T12:16:42.118788Z",
     "iopub.status.idle": "2024-10-27T12:16:42.128941Z",
     "shell.execute_reply": "2024-10-27T12:16:42.127741Z"
    },
    "papermill": {
     "duration": 0.024532,
     "end_time": "2024-10-27T12:16:42.131582",
     "exception": false,
     "start_time": "2024-10-27T12:16:42.107050",
     "status": "completed"
    },
    "tags": []
   },
   "outputs": [
    {
     "data": {
      "application/javascript": [
       "parent.postMessage({\"jupyterEvent\": \"custom.exercise_interaction\", \"data\": {\"interactionType\": 2, \"questionType\": 4, \"questionId\": \"3_WhyDataMissing\", \"learnToolsVersion\": \"0.3.4\", \"valueTowardsCompletion\": 0.0, \"failureMessage\": \"\", \"exceptionClass\": \"\", \"trace\": \"\", \"outcomeType\": 4}}, \"*\")"
      ],
      "text/plain": [
       "<IPython.core.display.Javascript object>"
      ]
     },
     "metadata": {},
     "output_type": "display_data"
    },
    {
     "data": {
      "text/markdown": [
       "<span style=\"color:#3366cc\">Hint:</span> Do all addresses generally have a street number suffix?  Do all addresses generally have a zipcode?"
      ],
      "text/plain": [
       "Hint: Do all addresses generally have a street number suffix?  Do all addresses generally have a zipcode?"
      ]
     },
     "metadata": {},
     "output_type": "display_data"
    }
   ],
   "source": [
    "# Line below will give you a hint\n",
    "#\n",
    "q3.hint()"
   ]
  },
  {
   "cell_type": "markdown",
   "id": "dfa9b335",
   "metadata": {
    "papermill": {
     "duration": 0.010508,
     "end_time": "2024-10-27T12:16:42.152731",
     "exception": false,
     "start_time": "2024-10-27T12:16:42.142223",
     "status": "completed"
    },
    "tags": []
   },
   "source": [
    "# 4) Drop missing values: rows\n",
    "\n",
    "If you removed all of the rows of `sf_permits` with missing values, how many rows are left?\n",
    "\n",
    "**Note**: Do not change the value of `sf_permits` when checking this.  "
   ]
  },
  {
   "cell_type": "code",
   "execution_count": 10,
   "id": "8a80dfbf",
   "metadata": {
    "execution": {
     "iopub.execute_input": "2024-10-27T12:16:42.175953Z",
     "iopub.status.busy": "2024-10-27T12:16:42.175509Z",
     "iopub.status.idle": "2024-10-27T12:16:42.669974Z",
     "shell.execute_reply": "2024-10-27T12:16:42.668719Z"
    },
    "papermill": {
     "duration": 0.509078,
     "end_time": "2024-10-27T12:16:42.672588",
     "exception": false,
     "start_time": "2024-10-27T12:16:42.163510",
     "status": "completed"
    },
    "tags": []
   },
   "outputs": [
    {
     "name": "stdout",
     "output_type": "stream",
     "text": [
      "Number of rows left after removing with missing values:0\n"
     ]
    }
   ],
   "source": [
    "# TODO: Your code here!\n",
    "sf_permits_cleaned = sf_permits.dropna()\n",
    "remaining_rows = sf_permits_cleaned.shape[0]\n",
    "\n",
    "print(f\"Number of rows left after removing with missing values:{remaining_rows}\")"
   ]
  },
  {
   "cell_type": "markdown",
   "id": "91210693",
   "metadata": {
    "papermill": {
     "duration": 0.010891,
     "end_time": "2024-10-27T12:16:42.694293",
     "exception": false,
     "start_time": "2024-10-27T12:16:42.683402",
     "status": "completed"
    },
    "tags": []
   },
   "source": [
    "Once you have an answer, run the code cell below."
   ]
  },
  {
   "cell_type": "code",
   "execution_count": 11,
   "id": "fe690e50",
   "metadata": {
    "execution": {
     "iopub.execute_input": "2024-10-27T12:16:42.717865Z",
     "iopub.status.busy": "2024-10-27T12:16:42.717408Z",
     "iopub.status.idle": "2024-10-27T12:16:42.727403Z",
     "shell.execute_reply": "2024-10-27T12:16:42.726186Z"
    },
    "papermill": {
     "duration": 0.024743,
     "end_time": "2024-10-27T12:16:42.729796",
     "exception": false,
     "start_time": "2024-10-27T12:16:42.705053",
     "status": "completed"
    },
    "tags": []
   },
   "outputs": [
    {
     "data": {
      "application/javascript": [
       "parent.postMessage({\"jupyterEvent\": \"custom.exercise_interaction\", \"data\": {\"outcomeType\": 1, \"valueTowardsCompletion\": 0.16666666666666666, \"interactionType\": 1, \"questionType\": 4, \"questionId\": \"4_DropMissingRows\", \"learnToolsVersion\": \"0.3.4\", \"failureMessage\": \"\", \"exceptionClass\": \"\", \"trace\": \"\"}}, \"*\")"
      ],
      "text/plain": [
       "<IPython.core.display.Javascript object>"
      ]
     },
     "metadata": {},
     "output_type": "display_data"
    },
    {
     "data": {
      "text/markdown": [
       "<span style=\"color:#33cc33\">Correct:</span> \n",
       "\n",
       "There are no rows remaining in the dataset!"
      ],
      "text/plain": [
       "Correct: \n",
       "\n",
       "There are no rows remaining in the dataset!"
      ]
     },
     "metadata": {},
     "output_type": "display_data"
    }
   ],
   "source": [
    "# Check your answer (Run this code cell to receive credit!)\n",
    "q4.check()"
   ]
  },
  {
   "cell_type": "code",
   "execution_count": 12,
   "id": "c3f7c497",
   "metadata": {
    "execution": {
     "iopub.execute_input": "2024-10-27T12:16:42.753991Z",
     "iopub.status.busy": "2024-10-27T12:16:42.753148Z",
     "iopub.status.idle": "2024-10-27T12:16:42.758399Z",
     "shell.execute_reply": "2024-10-27T12:16:42.756858Z"
    },
    "papermill": {
     "duration": 0.020215,
     "end_time": "2024-10-27T12:16:42.761011",
     "exception": false,
     "start_time": "2024-10-27T12:16:42.740796",
     "status": "completed"
    },
    "tags": []
   },
   "outputs": [],
   "source": [
    "# Line below will give you a hint\n",
    "#q4.hint()"
   ]
  },
  {
   "cell_type": "markdown",
   "id": "83da5a81",
   "metadata": {
    "papermill": {
     "duration": 0.010716,
     "end_time": "2024-10-27T12:16:42.782947",
     "exception": false,
     "start_time": "2024-10-27T12:16:42.772231",
     "status": "completed"
    },
    "tags": []
   },
   "source": [
    "# 5) Drop missing values: columns\n",
    "\n",
    "Now try removing all the columns with empty values.  \n",
    "- Create a new DataFrame called `sf_permits_with_na_dropped` that has all of the columns with empty values removed.  \n",
    "- How many columns were removed from the original `sf_permits` DataFrame? Use this number to set the value of the `dropped_columns` variable below."
   ]
  },
  {
   "cell_type": "code",
   "execution_count": 13,
   "id": "c56330b9",
   "metadata": {
    "execution": {
     "iopub.execute_input": "2024-10-27T12:16:42.807151Z",
     "iopub.status.busy": "2024-10-27T12:16:42.806751Z",
     "iopub.status.idle": "2024-10-27T12:16:43.321652Z",
     "shell.execute_reply": "2024-10-27T12:16:43.320399Z"
    },
    "papermill": {
     "duration": 0.53011,
     "end_time": "2024-10-27T12:16:43.324144",
     "exception": false,
     "start_time": "2024-10-27T12:16:42.794034",
     "status": "completed"
    },
    "tags": []
   },
   "outputs": [
    {
     "name": "stdout",
     "output_type": "stream",
     "text": [
      "Number of columns removed from the original DataFrame:31\n"
     ]
    },
    {
     "data": {
      "application/javascript": [
       "parent.postMessage({\"jupyterEvent\": \"custom.exercise_interaction\", \"data\": {\"outcomeType\": 1, \"valueTowardsCompletion\": 0.16666666666666666, \"interactionType\": 1, \"questionType\": 1, \"questionId\": \"5_DropMissingCols\", \"learnToolsVersion\": \"0.3.4\", \"failureMessage\": \"\", \"exceptionClass\": \"\", \"trace\": \"\"}}, \"*\")"
      ],
      "text/plain": [
       "<IPython.core.display.Javascript object>"
      ]
     },
     "metadata": {},
     "output_type": "display_data"
    },
    {
     "data": {
      "text/markdown": [
       "<span style=\"color:#33cc33\">Correct</span>"
      ],
      "text/plain": [
       "Correct"
      ]
     },
     "metadata": {},
     "output_type": "display_data"
    }
   ],
   "source": [
    "# TODO: Your code here\n",
    "sf_permits_with_na_dropped = sf_permits.dropna(axis=1)\n",
    "\n",
    "dropped_columns = sf_permits.shape[1] - sf_permits_with_na_dropped.shape[1]\n",
    "\n",
    "print(f\"Number of columns removed from the original DataFrame:{dropped_columns}\")\n",
    "\n",
    "# Check your answer\n",
    "q5.check()"
   ]
  },
  {
   "cell_type": "code",
   "execution_count": 14,
   "id": "b81adbe3",
   "metadata": {
    "execution": {
     "iopub.execute_input": "2024-10-27T12:16:43.349257Z",
     "iopub.status.busy": "2024-10-27T12:16:43.348838Z",
     "iopub.status.idle": "2024-10-27T12:16:43.354170Z",
     "shell.execute_reply": "2024-10-27T12:16:43.353119Z"
    },
    "papermill": {
     "duration": 0.020595,
     "end_time": "2024-10-27T12:16:43.356659",
     "exception": false,
     "start_time": "2024-10-27T12:16:43.336064",
     "status": "completed"
    },
    "tags": []
   },
   "outputs": [],
   "source": [
    "# Lines below will give you a hint or solution code\n",
    "#q5.hint()\n",
    "#q5.solution()"
   ]
  },
  {
   "cell_type": "markdown",
   "id": "8a583fd7",
   "metadata": {
    "papermill": {
     "duration": 0.011132,
     "end_time": "2024-10-27T12:16:43.379520",
     "exception": false,
     "start_time": "2024-10-27T12:16:43.368388",
     "status": "completed"
    },
    "tags": []
   },
   "source": [
    "# 6) Fill in missing values automatically\n",
    "\n",
    "Try replacing all the NaN's in the `sf_permits` data with the one that comes directly after it and then replacing any remaining NaN's with 0.  Set the result to a new DataFrame `sf_permits_with_na_imputed`."
   ]
  },
  {
   "cell_type": "code",
   "execution_count": 15,
   "id": "9b75747f",
   "metadata": {
    "execution": {
     "iopub.execute_input": "2024-10-27T12:16:43.405042Z",
     "iopub.status.busy": "2024-10-27T12:16:43.404608Z",
     "iopub.status.idle": "2024-10-27T12:16:46.866136Z",
     "shell.execute_reply": "2024-10-27T12:16:46.864969Z"
    },
    "papermill": {
     "duration": 3.477564,
     "end_time": "2024-10-27T12:16:46.869019",
     "exception": false,
     "start_time": "2024-10-27T12:16:43.391455",
     "status": "completed"
    },
    "tags": []
   },
   "outputs": [
    {
     "name": "stderr",
     "output_type": "stream",
     "text": [
      "/tmp/ipykernel_17/932472148.py:2: FutureWarning: DataFrame.fillna with 'method' is deprecated and will raise in a future version. Use obj.ffill() or obj.bfill() instead.\n",
      "  sf_permits_with_na_imputed = sf_permits.fillna(method=\"bfill\", axis=0).fillna(0)\n"
     ]
    },
    {
     "data": {
      "application/javascript": [
       "parent.postMessage({\"jupyterEvent\": \"custom.exercise_interaction\", \"data\": {\"outcomeType\": 1, \"valueTowardsCompletion\": 0.16666666666666666, \"interactionType\": 1, \"questionType\": 1, \"questionId\": \"6_ImputeAutomatically\", \"learnToolsVersion\": \"0.3.4\", \"failureMessage\": \"\", \"exceptionClass\": \"\", \"trace\": \"\"}}, \"*\")"
      ],
      "text/plain": [
       "<IPython.core.display.Javascript object>"
      ]
     },
     "metadata": {},
     "output_type": "display_data"
    },
    {
     "data": {
      "text/markdown": [
       "<span style=\"color:#33cc33\">Correct</span>"
      ],
      "text/plain": [
       "Correct"
      ]
     },
     "metadata": {},
     "output_type": "display_data"
    }
   ],
   "source": [
    "# TODO: Your code here\n",
    "sf_permits_with_na_imputed = sf_permits.fillna(method=\"bfill\", axis=0).fillna(0)\n",
    "\n",
    "# Check your answer\n",
    "q6.check()"
   ]
  },
  {
   "cell_type": "code",
   "execution_count": 16,
   "id": "9d01197c",
   "metadata": {
    "execution": {
     "iopub.execute_input": "2024-10-27T12:16:46.895814Z",
     "iopub.status.busy": "2024-10-27T12:16:46.895393Z",
     "iopub.status.idle": "2024-10-27T12:16:46.900455Z",
     "shell.execute_reply": "2024-10-27T12:16:46.899223Z"
    },
    "papermill": {
     "duration": 0.021138,
     "end_time": "2024-10-27T12:16:46.902963",
     "exception": false,
     "start_time": "2024-10-27T12:16:46.881825",
     "status": "completed"
    },
    "tags": []
   },
   "outputs": [],
   "source": [
    "# Lines below will give you a hint or solution code\n",
    "#q6.hint()\n",
    "#q6.solution()"
   ]
  },
  {
   "cell_type": "markdown",
   "id": "6bc46268",
   "metadata": {
    "papermill": {
     "duration": 0.011755,
     "end_time": "2024-10-27T12:16:46.926958",
     "exception": false,
     "start_time": "2024-10-27T12:16:46.915203",
     "status": "completed"
    },
    "tags": []
   },
   "source": [
    "# More practice\n",
    "\n",
    "If you're looking for more practice handling missing values:\n",
    "\n",
    "* Check out [this noteboook](https://www.kaggle.com/alexisbcook/missing-values) on handling missing values using scikit-learn's imputer. \n",
    "* Look back at the \"Zipcode\" column in the `sf_permits` dataset, which has some missing values. How would you go about figuring out what the actual zipcode of each address should be? (You might try using another dataset. You can search for datasets about San Fransisco on the [Datasets listing](https://www.kaggle.com/datasets).) \n",
    "\n",
    "# Keep going\n",
    "\n",
    "In the next lesson, learn how to [**apply scaling and normalization**](https://www.kaggle.com/alexisbcook/scaling-and-normalization) to transform your data."
   ]
  },
  {
   "cell_type": "markdown",
   "id": "fac37968",
   "metadata": {
    "papermill": {
     "duration": 0.011772,
     "end_time": "2024-10-27T12:16:46.950838",
     "exception": false,
     "start_time": "2024-10-27T12:16:46.939066",
     "status": "completed"
    },
    "tags": []
   },
   "source": [
    "---\n",
    "\n",
    "\n",
    "\n",
    "\n",
    "*Have questions or comments? Visit the [course discussion forum](https://www.kaggle.com/learn/data-cleaning/discussion) to chat with other learners.*"
   ]
  }
 ],
 "metadata": {
  "kaggle": {
   "accelerator": "none",
   "dataSources": [
    {
     "datasetId": 16432,
     "sourceId": 21688,
     "sourceType": "datasetVersion"
    }
   ],
   "isGpuEnabled": false,
   "isInternetEnabled": false,
   "language": "python",
   "sourceType": "notebook"
  },
  "kernelspec": {
   "display_name": "Python 3",
   "language": "python",
   "name": "python3"
  },
  "language_info": {
   "codemirror_mode": {
    "name": "ipython",
    "version": 3
   },
   "file_extension": ".py",
   "mimetype": "text/x-python",
   "name": "python",
   "nbconvert_exporter": "python",
   "pygments_lexer": "ipython3",
   "version": "3.10.14"
  },
  "papermill": {
   "default_parameters": {},
   "duration": 20.360404,
   "end_time": "2024-10-27T12:16:47.685551",
   "environment_variables": {},
   "exception": null,
   "input_path": "__notebook__.ipynb",
   "output_path": "__notebook__.ipynb",
   "parameters": {},
   "start_time": "2024-10-27T12:16:27.325147",
   "version": "2.6.0"
  }
 },
 "nbformat": 4,
 "nbformat_minor": 5
}
